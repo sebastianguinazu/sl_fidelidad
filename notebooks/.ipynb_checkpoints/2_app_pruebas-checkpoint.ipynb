{
 "cells": [
  {
   "cell_type": "code",
   "execution_count": 1,
   "id": "related-injection",
   "metadata": {},
   "outputs": [],
   "source": [
    "import numpy as np\n",
    "import pandas as pd\n",
    "from pathlib import Path\n",
    "import pickle\n",
    "from datetime import datetime\n",
    "import matplotlib.pyplot as plt\n",
    "import plotly.express as px"
   ]
  },
  {
   "cell_type": "code",
   "execution_count": 2,
   "id": "ordered-identifier",
   "metadata": {},
   "outputs": [],
   "source": [
    "# seteo carpetas\n",
    "BASE = Path().absolute().parent\n",
    "RAW = Path(BASE/'raw')\n",
    "DATA = Path(BASE/'data')"
   ]
  },
  {
   "cell_type": "code",
   "execution_count": 3,
   "id": "historic-functionality",
   "metadata": {},
   "outputs": [],
   "source": [
    "def load_datasets():\n",
    "    df = pickle.load( open( DATA/\"df_fide.p\", \"rb\" ) )\n",
    "    df['antig'] = [round((datetime.now() - x).days/365) for x in df['fecha_ingreso']]\n",
    "    df['edad'] = [np.nan if pd.isnull(x) else round((datetime.now() - x).days/365) for x in df['fecha_nac']]\n",
    "    return df"
   ]
  },
  {
   "cell_type": "code",
   "execution_count": 4,
   "id": "spectacular-ottawa",
   "metadata": {},
   "outputs": [],
   "source": [
    "df = load_datasets()"
   ]
  },
  {
   "cell_type": "code",
   "execution_count": 5,
   "id": "matched-civilian",
   "metadata": {},
   "outputs": [
    {
     "name": "stdout",
     "output_type": "stream",
     "text": [
      "Index(['sexo', 'tipo_socio', 'forma_pago', 'fecha_ingreso', 'refunda',\n",
      "       'fecha_nac', 'abo_bid_2020', 'abo_bid_2021', 'abo_pol_2020',\n",
      "       'abo_pol_2021', 'eve_2018', 'eve_2019', 'eve_2020', 'antig', 'edad'],\n",
      "      dtype='object')\n"
     ]
    }
   ],
   "source": [
    "print(df.columns)\n",
    "# df.head()"
   ]
  },
  {
   "cell_type": "code",
   "execution_count": 5,
   "id": "forward-archives",
   "metadata": {},
   "outputs": [],
   "source": [
    "# seteo valores random\n",
    "patrimonial =  1500\n",
    "refundador = 2000\n",
    "debito = 25\n",
    "ant_simple = 250\n",
    "ant_pleno = 350\n",
    "ant_interior = 350\n",
    "ant_exterior = 500\n",
    "ant_vitalic = 350\n",
    "abo_bidegain = 1000\n",
    "abo_polideportivo = 500\n",
    "vita_abonando = 25\n",
    "cuota_dia_aspo = 1000\n",
    "eve_bid_amba = 50\n",
    "eve_pol_inte = 75\n",
    "eve_bid_inte = 50\n",
    "eve_pol_amba = 75"
   ]
  },
  {
   "cell_type": "code",
   "execution_count": 6,
   "id": "italic-corporation",
   "metadata": {},
   "outputs": [],
   "source": [
    "def calc_puntos(df):\n",
    "    df['puntos'] = 0\n",
    "\n",
    "    df.loc[df['tipo_socio']=='PATRIMONIAL', 'puntos'] += patrimonial\n",
    "    df.loc[df['refunda']==1, 'puntos'] += refundador\n",
    "    df.loc[df['forma_pago']=='DEBITO', 'puntos'] += debito\n",
    "\n",
    "    df.loc[df['tipo_socio']=='SIMPLE', 'puntos'] += df.loc[df['tipo_socio']=='SIMPLE', 'antig'] * ant_simple\n",
    "    df.loc[df['tipo_socio']=='PLENO', 'puntos'] += df.loc[df['tipo_socio']=='PLENO', 'antig'] * ant_pleno\n",
    "    df.loc[df['tipo_socio']=='INTERIOR', 'puntos'] += df.loc[df['tipo_socio']=='INTERIOR', 'antig'] * ant_interior\n",
    "    df.loc[df['tipo_socio']=='EXTERIOR', 'puntos'] += df.loc[df['tipo_socio']=='EXTERIOR', 'antig'] * ant_exterior\n",
    "    df.loc[df['tipo_socio']=='VITALICIO', 'puntos'] += df.loc[df['tipo_socio']=='VITALICIO', 'antig'] * ant_vitalic\n",
    "\n",
    "    df['puntos'] += df['abo_bid_2020'] * abo_bidegain\n",
    "    df['puntos'] += df['abo_bid_2021'] * abo_bidegain\n",
    "    df['puntos'] += df['abo_pol_2020'] * abo_polideportivo\n",
    "    df['puntos'] += df['abo_pol_2021'] * abo_polideportivo\n",
    "\n",
    "    intext = (df['tipo_socio']=='INTERIOR') | (df['tipo_socio']=='EXTERIOR')\n",
    "    df.loc[~intext, 'puntos'] += df.loc[~intext, 'eve_2018'] * eve_bid_amba\n",
    "    df.loc[~intext, 'puntos'] += df.loc[~intext, 'eve_2019'] * eve_bid_amba\n",
    "    df.loc[~intext, 'puntos'] += df.loc[~intext, 'eve_2020'] * eve_bid_amba\n",
    "    df.loc[intext, 'puntos'] += df.loc[intext, 'eve_2018'] * eve_bid_inte\n",
    "    df.loc[intext, 'puntos'] += df.loc[intext, 'eve_2019'] * eve_bid_inte\n",
    "    df.loc[intext, 'puntos'] += df.loc[intext, 'eve_2020'] * eve_bid_inte\n",
    "    return df"
   ]
  },
  {
   "cell_type": "code",
   "execution_count": 7,
   "id": "speaking-vacuum",
   "metadata": {},
   "outputs": [],
   "source": [
    "df = calc_puntos(df)"
   ]
  },
  {
   "cell_type": "code",
   "execution_count": 43,
   "id": "coastal-carter",
   "metadata": {},
   "outputs": [],
   "source": [
    "# round(df.puntos.describe(),1)"
   ]
  },
  {
   "cell_type": "code",
   "execution_count": 44,
   "id": "vocational-median",
   "metadata": {},
   "outputs": [],
   "source": [
    "# round(df.puntos.describe(),1)[7]"
   ]
  },
  {
   "cell_type": "code",
   "execution_count": 45,
   "id": "current-egyptian",
   "metadata": {},
   "outputs": [],
   "source": [
    "# type(pd.cut(df.puntos, 10))"
   ]
  },
  {
   "cell_type": "code",
   "execution_count": 21,
   "id": "liable-panic",
   "metadata": {},
   "outputs": [],
   "source": [
    "# fig = px.histogram(df, x=\"puntos\", nbins=20, labels={\"puntos\":'Puntos', 'count':'# Socios'}).update_layout(yaxis_title=\"# Socios\")\n",
    "# fig.show()"
   ]
  },
  {
   "cell_type": "code",
   "execution_count": 38,
   "id": "radical-armor",
   "metadata": {},
   "outputs": [],
   "source": [
    "# df['edad'].describe()"
   ]
  },
  {
   "cell_type": "code",
   "execution_count": 42,
   "id": "excellent-bahamas",
   "metadata": {},
   "outputs": [],
   "source": [
    "# df['tipo_socio'].value_counts()"
   ]
  },
  {
   "cell_type": "code",
   "execution_count": 41,
   "id": "artistic-charm",
   "metadata": {},
   "outputs": [],
   "source": [
    "# round(df.loc[df['tipo_socio']=='SIMPLE', 'puntos'].mean())"
   ]
  },
  {
   "cell_type": "code",
   "execution_count": 39,
   "id": "verified-david",
   "metadata": {},
   "outputs": [],
   "source": [
    "# round(df.loc[df['tipo_socio']=='SIMPLE', 'puntos'].describe()[5])"
   ]
  },
  {
   "cell_type": "code",
   "execution_count": 40,
   "id": "identical-daily",
   "metadata": {},
   "outputs": [],
   "source": [
    "# fig = px.box(df, x=\"tipo_socio\", y=\"puntos\", color=\"tipo_socio\", color_discrete_sequence=[\"blue\", \"red\", \"blue\", \"red\", \"blue\", \"red\"])\n",
    "# fig.show()"
   ]
  }
 ],
 "metadata": {
  "kernelspec": {
   "display_name": "Python 3",
   "language": "python",
   "name": "python3"
  },
  "language_info": {
   "codemirror_mode": {
    "name": "ipython",
    "version": 3
   },
   "file_extension": ".py",
   "mimetype": "text/x-python",
   "name": "python",
   "nbconvert_exporter": "python",
   "pygments_lexer": "ipython3",
   "version": "3.8.5"
  }
 },
 "nbformat": 4,
 "nbformat_minor": 5
}
