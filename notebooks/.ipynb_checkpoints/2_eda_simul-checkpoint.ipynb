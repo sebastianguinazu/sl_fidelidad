{
 "cells": [
  {
   "cell_type": "code",
   "execution_count": null,
   "id": "related-injection",
   "metadata": {},
   "outputs": [],
   "source": [
    "import numpy as np\n",
    "import pandas as pd\n",
    "from pathlib import Path\n",
    "import pickle\n",
    "from datetime import datetime\n",
    "import matplotlib.pyplot as plt\n",
    "import plotly.express as px"
   ]
  },
  {
   "cell_type": "code",
   "execution_count": null,
   "id": "floating-ukraine",
   "metadata": {},
   "outputs": [],
   "source": [
    "!ls"
   ]
  },
  {
   "cell_type": "code",
   "execution_count": null,
   "id": "ordered-identifier",
   "metadata": {},
   "outputs": [],
   "source": [
    "# seteo carpetas\n",
    "BASE = Path().absolute().parent\n",
    "RAW = Path(BASE/'raw')\n",
    "DATA = Path(BASE/'data')"
   ]
  },
  {
   "cell_type": "code",
   "execution_count": null,
   "id": "historic-functionality",
   "metadata": {},
   "outputs": [],
   "source": [
    "def load_datasets():\n",
    "    df = pickle.load( open( DATA/\"df_fide.p\", \"rb\" ) )\n",
    "    df['antig'] = [round((datetime.now() - x).days/365) for x in df['fecha_ingreso']]\n",
    "    df['edad'] = [np.nan if pd.isnull(x) else round((datetime.now() - x).days/365) for x in df['fecha_nac']]\n",
    "    return df"
   ]
  },
  {
   "cell_type": "code",
   "execution_count": null,
   "id": "spectacular-ottawa",
   "metadata": {},
   "outputs": [],
   "source": [
    "df_socios = load_datasets()"
   ]
  },
  {
   "cell_type": "code",
   "execution_count": null,
   "id": "three-marketplace",
   "metadata": {},
   "outputs": [],
   "source": [
    "df_socios.head()"
   ]
  },
  {
   "cell_type": "markdown",
   "id": "industrial-requirement",
   "metadata": {},
   "source": [
    "## Analisis de antiguedad y Patrimonial"
   ]
  },
  {
   "cell_type": "code",
   "execution_count": null,
   "id": "specified-experiment",
   "metadata": {},
   "outputs": [],
   "source": [
    "df_socios.antig.max()"
   ]
  },
  {
   "cell_type": "code",
   "execution_count": null,
   "id": "matched-civilian",
   "metadata": {},
   "outputs": [],
   "source": [
    "# antiguedad\n",
    "print(df_socios.loc[df_socios['antig']>60].shape[0])\n",
    "print(df_socios.loc[df_socios['antig']>50].shape[0])\n",
    "print(df_socios.loc[df_socios['antig']>40].shape[0])\n",
    "print(df_socios.loc[df_socios['antig']>30].shape[0])"
   ]
  },
  {
   "cell_type": "code",
   "execution_count": null,
   "id": "adjusted-wagon",
   "metadata": {},
   "outputs": [],
   "source": [
    "# patrimonial\n",
    "print(df_socios.loc[df_socios['tipo_socio']=='PATRIMONIAL'].shape[0])"
   ]
  },
  {
   "cell_type": "code",
   "execution_count": null,
   "id": "realistic-involvement",
   "metadata": {},
   "outputs": [],
   "source": [
    "# analisis cruzado\n",
    "print(df_socios.loc[((df_socios['tipo_socio']=='PATRIMONIAL') & (df_socios['antig']>40))].shape[0])\n",
    "print(df_socios.loc[((df_socios['tipo_socio']=='PATRIMONIAL') & (df_socios['antig']>30))].shape[0])\n",
    "print(df_socios.loc[((df_socios['tipo_socio']=='PATRIMONIAL') & (df_socios['antig']>20))].shape[0])"
   ]
  },
  {
   "cell_type": "code",
   "execution_count": null,
   "id": "satisfactory-journal",
   "metadata": {},
   "outputs": [],
   "source": [
    "df_socios.loc[df_socios['tipo_socio']=='PATRIMONIAL'].head(10)"
   ]
  },
  {
   "cell_type": "code",
   "execution_count": null,
   "id": "vital-copying",
   "metadata": {},
   "outputs": [],
   "source": [
    "df_socios.loc[df_socios['tipo_socio']=='PATRIMONIAL', 'antig'].describe()"
   ]
  },
  {
   "cell_type": "code",
   "execution_count": null,
   "id": "designing-korean",
   "metadata": {},
   "outputs": [],
   "source": [
    "df_socios.loc[df_socios['tipo_socio']=='PATRIMONIAL', 'edad'].describe()"
   ]
  },
  {
   "cell_type": "markdown",
   "id": "commercial-survey",
   "metadata": {},
   "source": [
    "## Calculo de puntos"
   ]
  },
  {
   "cell_type": "code",
   "execution_count": null,
   "id": "forward-archives",
   "metadata": {},
   "outputs": [],
   "source": [
    "# seteo valores random\n",
    "patrimonial =  1500\n",
    "refundador = 2000\n",
    "debito = 1000\n",
    "ant_simple = 250\n",
    "ant_pleno = 350\n",
    "ant_interior = 350\n",
    "ant_exterior = 500\n",
    "ant_vitalic = 350\n",
    "abo_bidegain = 1000\n",
    "abo_polideportivo = 500\n",
    "vita_abonando = 25\n",
    "cuota_dia_aspo = 1000\n",
    "eve_bid_amba = 50\n",
    "eve_pol_inte = 75\n",
    "eve_bid_inte = 50\n",
    "eve_pol_amba = 75"
   ]
  },
  {
   "cell_type": "code",
   "execution_count": null,
   "id": "italic-corporation",
   "metadata": {},
   "outputs": [],
   "source": [
    "def calc_puntos(dfinput, patrimonial, refundador, debito, ant_simple, ant_pleno, ant_interior, \\\n",
    "                ant_exterior, ant_vitalic, abo_bidegain, abo_polideportivo, eve_bid_amba, eve_bid_inte, \\\n",
    "                cancha_mujer = 1):\n",
    "    df = dfinput.copy()\n",
    "    df['puntos'] = 0\n",
    "\n",
    "    df.loc[df['tipo_socio']=='PATRIMONIAL', 'puntos'] += patrimonial\n",
    "    df.loc[df['refunda']==1, 'puntos'] += refundador\n",
    "    df.loc[df['forma_pago']=='DEBITO', 'puntos'] += debito\n",
    "\n",
    "    df.loc[df['tipo_socio']=='SIMPLE', 'puntos'] += df.loc[df['tipo_socio']=='SIMPLE', 'antig'] * ant_simple\n",
    "    df.loc[df['tipo_socio']=='PLENO', 'puntos'] += df.loc[df['tipo_socio']=='PLENO', 'antig'] * ant_pleno\n",
    "    df.loc[df['tipo_socio']=='INTERIOR', 'puntos'] += df.loc[df['tipo_socio']=='INTERIOR', 'antig'] * ant_interior\n",
    "    df.loc[df['tipo_socio']=='EXTERIOR', 'puntos'] += df.loc[df['tipo_socio']=='EXTERIOR', 'antig'] * ant_exterior\n",
    "    df.loc[df['tipo_socio']=='VITALICIO', 'puntos'] += df.loc[df['tipo_socio']=='VITALICIO', 'antig'] * ant_vitalic\n",
    "    df.loc[df['tipo_socio']=='PATRIMONIAL', 'puntos'] += df.loc[df['tipo_socio']=='PATRIMONIAL', 'antig'] * ant_pleno\n",
    "\n",
    "    df['puntos'] += df['abo_bid_2020'] * abo_bidegain\n",
    "    df['puntos'] += df['abo_bid_2021'] * abo_bidegain\n",
    "    df['puntos'] += df['abo_pol_2020'] * abo_polideportivo\n",
    "    df['puntos'] += df['abo_pol_2021'] * abo_polideportivo\n",
    "\n",
    "    intext = (df['tipo_socio']=='INTERIOR') | (df['tipo_socio']=='EXTERIOR')\n",
    "    df.loc[((~intext) & (df['sexo']=='M')), 'puntos'] += df.loc[~intext, 'eve_2018'] * eve_bid_amba\n",
    "    df.loc[((~intext) & (df['sexo']=='M')), 'puntos'] += df.loc[~intext, 'eve_2019'] * eve_bid_amba\n",
    "    df.loc[((~intext) & (df['sexo']=='M')), 'puntos'] += df.loc[~intext, 'eve_2020'] * eve_bid_amba\n",
    "\n",
    "    df.loc[((~intext) & (df['sexo']=='F')), 'puntos'] += (df.loc[~intext, 'eve_2018'] * eve_bid_amba * cancha_mujer)\n",
    "    df.loc[((~intext) & (df['sexo']=='F')), 'puntos'] += (df.loc[~intext, 'eve_2018'] * eve_bid_amba * cancha_mujer)\n",
    "    df.loc[((~intext) & (df['sexo']=='F')), 'puntos'] += (df.loc[~intext, 'eve_2018'] * eve_bid_amba * cancha_mujer)\n",
    "    \n",
    "    df.loc[((intext) & (df['sexo']=='M')), 'puntos'] += df.loc[intext, 'eve_2018'] * eve_bid_inte\n",
    "    df.loc[((intext) & (df['sexo']=='M')), 'puntos'] += df.loc[intext, 'eve_2019'] * eve_bid_inte\n",
    "    df.loc[((intext) & (df['sexo']=='M')), 'puntos'] += df.loc[intext, 'eve_2020'] * eve_bid_inte\n",
    "\n",
    "    df.loc[((intext) & (df['sexo']=='F')), 'puntos'] += (df.loc[intext, 'eve_2018'] * eve_bid_inte * cancha_mujer)\n",
    "    df.loc[((intext) & (df['sexo']=='F')), 'puntos'] += (df.loc[intext, 'eve_2019'] * eve_bid_inte * cancha_mujer)\n",
    "    df.loc[((intext) & (df['sexo']=='F')), 'puntos'] += (df.loc[intext, 'eve_2020'] * eve_bid_inte * cancha_mujer)\n",
    "    \n",
    "    return df"
   ]
  },
  {
   "cell_type": "code",
   "execution_count": null,
   "id": "speaking-vacuum",
   "metadata": {},
   "outputs": [],
   "source": [
    "df1 = calc_puntos(df_socios, patrimonial, refundador, debito, ant_simple, ant_pleno, ant_interior, \\\n",
    "        ant_exterior, ant_vitalic, abo_bidegain, abo_polideportivo, eve_bid_amba, eve_bid_inte)"
   ]
  },
  {
   "cell_type": "markdown",
   "id": "welsh-photograph",
   "metadata": {},
   "source": [
    "### analisis general"
   ]
  },
  {
   "cell_type": "code",
   "execution_count": null,
   "id": "sixth-genesis",
   "metadata": {},
   "outputs": [],
   "source": [
    "df1['puntos'].describe()"
   ]
  },
  {
   "cell_type": "markdown",
   "id": "acute-drunk",
   "metadata": {},
   "source": [
    "### analisis por genero"
   ]
  },
  {
   "cell_type": "code",
   "execution_count": null,
   "id": "single-conditioning",
   "metadata": {},
   "outputs": [],
   "source": [
    "df2 = calc_puntos(df_socios, patrimonial, refundador, debito, ant_simple, ant_pleno, ant_interior, \\\n",
    "        ant_exterior, ant_vitalic, abo_bidegain, abo_polideportivo, eve_bid_amba, eve_bid_inte, \\\n",
    "        cancha_mujer = 2)\n",
    "df2.groupby(['sexo'])['puntos'].mean()"
   ]
  },
  {
   "cell_type": "code",
   "execution_count": null,
   "id": "enabling-surprise",
   "metadata": {},
   "outputs": [],
   "source": [
    "df_socios.groupby(['sexo'])['puntos'].mean()"
   ]
  },
  {
   "cell_type": "code",
   "execution_count": null,
   "id": "liable-panic",
   "metadata": {},
   "outputs": [],
   "source": [
    "# fig = px.histogram(df, x=\"puntos\", nbins=20, labels={\"puntos\":'Puntos', 'count':'# Socios'}).update_layout(yaxis_title=\"# Socios\")\n",
    "# fig.show()"
   ]
  },
  {
   "cell_type": "markdown",
   "id": "worst-cassette",
   "metadata": {},
   "source": [
    "### analisis de patrimoniales"
   ]
  },
  {
   "cell_type": "code",
   "execution_count": null,
   "id": "black-advice",
   "metadata": {},
   "outputs": [],
   "source": [
    "df1.loc[df1['tipo_socio']=='PATRIMONIAL', 'puntos'].describe()"
   ]
  },
  {
   "cell_type": "markdown",
   "id": "serious-sperm",
   "metadata": {},
   "source": [
    "### otros analisis"
   ]
  },
  {
   "cell_type": "code",
   "execution_count": null,
   "id": "radical-armor",
   "metadata": {},
   "outputs": [],
   "source": [
    "df['edad'].describe()"
   ]
  },
  {
   "cell_type": "code",
   "execution_count": null,
   "id": "welsh-persian",
   "metadata": {},
   "outputs": [],
   "source": [
    "round(df[df['tipo_socio']=='SIMPLE'].shape[0]/df.shape[0]*100)"
   ]
  },
  {
   "cell_type": "code",
   "execution_count": null,
   "id": "painted-louisiana",
   "metadata": {},
   "outputs": [],
   "source": [
    "df['eve'] = df['eve_2018'] + df['eve_2019'] + df['eve_2020']\n",
    "df['eve'].describe()"
   ]
  },
  {
   "cell_type": "code",
   "execution_count": null,
   "id": "unique-medicaid",
   "metadata": {},
   "outputs": [],
   "source": [
    "df.columns"
   ]
  },
  {
   "cell_type": "code",
   "execution_count": null,
   "id": "cardiac-resistance",
   "metadata": {},
   "outputs": [],
   "source": [
    "df['antig'].head()"
   ]
  },
  {
   "cell_type": "code",
   "execution_count": null,
   "id": "norman-dietary",
   "metadata": {},
   "outputs": [],
   "source": [
    "df['partidos'].unique()"
   ]
  },
  {
   "cell_type": "code",
   "execution_count": null,
   "id": "blank-henry",
   "metadata": {},
   "outputs": [],
   "source": [
    "# tipo de socios\n",
    "# tipo_socio = list(df['tipo_socio'].unique())\n",
    "tipo_socio = ['TODOS'] + list(df['tipo_socio'].unique())\n",
    "tipo_socio"
   ]
  }
 ],
 "metadata": {
  "kernelspec": {
   "display_name": "Python 3",
   "language": "python",
   "name": "python3"
  },
  "language_info": {
   "codemirror_mode": {
    "name": "ipython",
    "version": 3
   },
   "file_extension": ".py",
   "mimetype": "text/x-python",
   "name": "python",
   "nbconvert_exporter": "python",
   "pygments_lexer": "ipython3",
   "version": "3.8.10"
  }
 },
 "nbformat": 4,
 "nbformat_minor": 5
}
