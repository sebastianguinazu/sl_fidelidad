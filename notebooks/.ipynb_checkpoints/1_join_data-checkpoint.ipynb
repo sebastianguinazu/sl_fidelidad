{
 "cells": [
  {
   "cell_type": "markdown",
   "metadata": {},
   "source": [
    "# SL Fidelidad - 02_Join Data"
   ]
  },
  {
   "cell_type": "markdown",
   "metadata": {},
   "source": [
    "En esta notebook se analizan los tres dataframe generados y luego se los use en el df final."
   ]
  },
  {
   "cell_type": "code",
   "execution_count": null,
   "metadata": {},
   "outputs": [],
   "source": [
    "import pandas as pd\n",
    "import numpy as np\n",
    "from pathlib import Path\n",
    "import pickle\n",
    "\n",
    "from datetime import datetime\n",
    "from dateutil.relativedelta import relativedelta"
   ]
  },
  {
   "cell_type": "code",
   "execution_count": null,
   "metadata": {},
   "outputs": [],
   "source": [
    "# seteo carpetas\n",
    "BASE = Path().absolute().parent\n",
    "RAW = Path(BASE/'raw')\n",
    "DATA = Path(BASE/'data')"
   ]
  },
  {
   "cell_type": "markdown",
   "metadata": {},
   "source": [
    "## Bases"
   ]
  },
  {
   "cell_type": "markdown",
   "metadata": {},
   "source": [
    "- Socios: df_socios\n",
    "- Abonos: df_abonos\n",
    "- Eventos: df_eventos"
   ]
  },
  {
   "cell_type": "code",
   "execution_count": null,
   "metadata": {},
   "outputs": [],
   "source": [
    "# socios\n",
    "df_socios = pickle.load( open( DATA/\"df_socios.p\", \"rb\" ) )\n",
    "# abonos\n",
    "df_abonos = pickle.load( open( DATA/\"df_abonos.p\", \"rb\" ) )\n",
    "# eventos\n",
    "df_eventos = pickle.load( open( DATA/\"df_eventos.p\", \"rb\" ) )"
   ]
  },
  {
   "cell_type": "markdown",
   "metadata": {},
   "source": [
    "## Exploro bases"
   ]
  },
  {
   "cell_type": "code",
   "execution_count": null,
   "metadata": {},
   "outputs": [],
   "source": [
    "# variables\n",
    "print(f'variables de df_socios: \\n{df_socios.dtypes}\\n')\n",
    "print(f'variables de df_abonos: \\n{df_abonos.dtypes}\\n')\n",
    "print(f'variables de df_eventos: \\n{df_eventos.dtypes}\\n')"
   ]
  },
  {
   "cell_type": "code",
   "execution_count": null,
   "metadata": {},
   "outputs": [],
   "source": [
    "# observaciones\n",
    "print(df_socios.shape)\n",
    "print(df_abonos.shape)\n",
    "print(df_eventos.shape)"
   ]
  },
  {
   "cell_type": "code",
   "execution_count": null,
   "metadata": {},
   "outputs": [],
   "source": [
    "# analisis de integridad\n",
    "print(f'hay {df_abonos.shape[0] - sum([(i in df_socios.index) for i in df_abonos.index])} que estan en abonos y no en socios')\n",
    "print(f'hay {df_eventos.shape[0] - sum([(i in df_socios.index) for i in df_eventos.index])} que estan en eventos y no en socios')"
   ]
  },
  {
   "cell_type": "code",
   "execution_count": null,
   "metadata": {},
   "outputs": [],
   "source": [
    "# analizo los que estan en eventos y no en socios\n",
    "eventos_socios = [(i, i in df_socios.index) for i in df_eventos.index]\n",
    "eventos_nosoc = []\n",
    "for i in eventos_socios:\n",
    "    if i[1] == False:\n",
    "        eventos_nosoc.append(i[0])\n",
    "# eventos_nosoc"
   ]
  },
  {
   "cell_type": "markdown",
   "metadata": {},
   "source": [
    "## Junto las bases y creo algunas variables adicionales"
   ]
  },
  {
   "cell_type": "code",
   "execution_count": null,
   "metadata": {},
   "outputs": [],
   "source": [
    "# junto las  tres tablas\n",
    "df = pd.merge( left=pd.merge(df_socios, df_abonos, how='left', left_index=True, right_index=True),\n",
    "                    right=df_eventos, how='left', left_index=True, right_index=True)\n",
    "df.columns"
   ]
  },
  {
   "cell_type": "code",
   "execution_count": null,
   "metadata": {},
   "outputs": [],
   "source": [
    "# reemplazo los NaN por missing cuando corresponde\n",
    "varstofill = ['abo_bid_2020', 'abo_bid_2021', 'abo_pol_2020', 'abo_pol_2021', 'eve_2018', 'eve_2019', 'eve_2020']\n",
    "\n",
    "for var in varstofill:\n",
    "    df[var] = df[var].fillna(0)"
   ]
  },
  {
   "cell_type": "code",
   "execution_count": null,
   "metadata": {},
   "outputs": [],
   "source": [
    "# creo variable partidos\n",
    "df['eve'] = df['eve_2018'] + df['eve_2019'] + df['eve_2020']\n",
    "df.loc[df['eve']==0, 'partidos'] = \"Ninguno\"\n",
    "df.loc[(df['eve']>=1) & (df['eve']<5), 'partidos'] = \"Entre 1 y 4\"\n",
    "df.loc[(df['eve']>=5) & (df['eve']<10), 'partidos'] = \"Entre 5 y 9\"\n",
    "df.loc[df['eve']>=10, 'partidos'] = \"Mas de 10\""
   ]
  },
  {
   "cell_type": "code",
   "execution_count": null,
   "metadata": {
    "scrolled": true
   },
   "outputs": [],
   "source": [
    "# casteo variables fecha\n",
    "df['fecha_ingreso'] = pd.to_datetime(df['fecha_ingreso'], format='%d/%m/%Y')\n",
    "df['fecha_nac'] = pd.to_datetime(df['fecha_nac'], format='%d/%m/%Y')"
   ]
  },
  {
   "cell_type": "code",
   "execution_count": null,
   "metadata": {},
   "outputs": [],
   "source": [
    "# edad\n",
    "df['f_ingreso_18'] = [x + relativedelta(years=18)  for x in df['fecha_nac']]\n",
    "df['f_ingreso_18'] = np.where(df['fecha_ingreso']<df['f_ingreso_18'], df['f_ingreso_18'], df['fecha_ingreso'])\n",
    "df['antig'] = [round((datetime.now() - x).days/365) for x in df['f_ingreso_18']]\n",
    "df['edad'] = [np.nan if pd.isnull(x) else round((datetime.now() - x).days/365) for x in df['fecha_nac']]"
   ]
  },
  {
   "cell_type": "code",
   "execution_count": null,
   "metadata": {},
   "outputs": [],
   "source": [
    "df.loc[(df['edad']<18), 'grupo_etario'] = \"Menores a 18\"\n",
    "df.loc[(df['edad']>=18) & (df['edad']<=29), 'grupo_etario'] = \"Entre 18 y 29\"\n",
    "df.loc[(df['edad']>=30) & (df['edad']<=44), 'grupo_etario'] = \"Entre 30 y 44\"\n",
    "df.loc[(df['edad']>=45) & (df['edad']<=59), 'grupo_etario'] = \"Entre 45 y 59\"\n",
    "df.loc[df['edad']>=60, 'grupo_etario'] = \"Mayor a 60\"\n",
    "\n",
    "df['grupo_etario'].value_counts()"
   ]
  },
  {
   "cell_type": "code",
   "execution_count": null,
   "metadata": {},
   "outputs": [],
   "source": [
    "# filtro mayores de 70 para el analisis\n",
    "print(df.shape[0])\n",
    "df = df[df.edad <= 70]\n",
    "print(df.shape[0])"
   ]
  },
  {
   "cell_type": "code",
   "execution_count": null,
   "metadata": {},
   "outputs": [],
   "source": [
    "# seteo debito a vitalicios\n",
    "df.loc[(df['tipo_socio']=='VITALICIO'), 'forma_pago'] = \"DEBITO\""
   ]
  },
  {
   "cell_type": "markdown",
   "metadata": {},
   "source": [
    "## Guardo base final"
   ]
  },
  {
   "cell_type": "code",
   "execution_count": null,
   "metadata": {},
   "outputs": [],
   "source": [
    "pickle.dump( df, open( DATA/\"df_fide.p\", \"wb\" ) )"
   ]
  },
  {
   "cell_type": "code",
   "execution_count": null,
   "metadata": {},
   "outputs": [],
   "source": []
  }
 ],
 "metadata": {
  "kernelspec": {
   "display_name": "Python 3",
   "language": "python",
   "name": "python3"
  },
  "language_info": {
   "codemirror_mode": {
    "name": "ipython",
    "version": 3
   },
   "file_extension": ".py",
   "mimetype": "text/x-python",
   "name": "python",
   "nbconvert_exporter": "python",
   "pygments_lexer": "ipython3",
   "version": "3.8.10"
  }
 },
 "nbformat": 4,
 "nbformat_minor": 4
}
