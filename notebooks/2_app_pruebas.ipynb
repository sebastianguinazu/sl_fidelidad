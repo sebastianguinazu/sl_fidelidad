{
 "cells": [
  {
   "cell_type": "code",
   "execution_count": 1,
   "id": "related-injection",
   "metadata": {},
   "outputs": [],
   "source": [
    "import numpy as np\n",
    "import pandas as pd\n",
    "from pathlib import Path\n",
    "import pickle\n",
    "from datetime import datetime\n",
    "import matplotlib.pyplot as plt\n",
    "import plotly.express as px"
   ]
  },
  {
   "cell_type": "code",
   "execution_count": 2,
   "id": "floating-ukraine",
   "metadata": {},
   "outputs": [
    {
     "name": "stdout",
     "output_type": "stream",
     "text": [
      " 0_read_data.ipynb\t    2_app_pruebas.ipynb   __pycache__\r\n",
      "'1_join_data_&_EDA.ipynb'   helper_functions.py\r\n"
     ]
    }
   ],
   "source": [
    "!ls"
   ]
  },
  {
   "cell_type": "code",
   "execution_count": 3,
   "id": "ordered-identifier",
   "metadata": {},
   "outputs": [],
   "source": [
    "# seteo carpetas\n",
    "BASE = Path().absolute().parent\n",
    "RAW = Path(BASE/'raw')\n",
    "DATA = Path(BASE/'data')"
   ]
  },
  {
   "cell_type": "code",
   "execution_count": 4,
   "id": "historic-functionality",
   "metadata": {},
   "outputs": [],
   "source": [
    "def load_datasets():\n",
    "    df = pickle.load( open( DATA/\"df_fide.p\", \"rb\" ) )\n",
    "    df['antig'] = [round((datetime.now() - x).days/365) for x in df['fecha_ingreso']]\n",
    "    df['edad'] = [np.nan if pd.isnull(x) else round((datetime.now() - x).days/365) for x in df['fecha_nac']]\n",
    "    return df"
   ]
  },
  {
   "cell_type": "code",
   "execution_count": 5,
   "id": "spectacular-ottawa",
   "metadata": {},
   "outputs": [],
   "source": [
    "df_socios = load_datasets()"
   ]
  },
  {
   "cell_type": "code",
   "execution_count": 6,
   "id": "matched-civilian",
   "metadata": {},
   "outputs": [
    {
     "name": "stdout",
     "output_type": "stream",
     "text": [
      "Index(['sexo', 'tipo_socio', 'forma_pago', 'fecha_ingreso', 'refunda',\n",
      "       'fecha_nac', 'abo_bid_2020', 'abo_bid_2021', 'abo_pol_2020',\n",
      "       'abo_pol_2021', 'eve_2018', 'eve_2019', 'eve_2020', 'eve', 'partidos',\n",
      "       'antig', 'edad', 'grupo_etario'],\n",
      "      dtype='object')\n"
     ]
    }
   ],
   "source": [
    "print(df_socios.columns)\n",
    "# df.head()"
   ]
  },
  {
   "cell_type": "code",
   "execution_count": 7,
   "id": "forward-archives",
   "metadata": {},
   "outputs": [],
   "source": [
    "# seteo valores random\n",
    "patrimonial =  1500\n",
    "refundador = 2000\n",
    "debito = 1000\n",
    "ant_simple = 250\n",
    "ant_pleno = 350\n",
    "ant_interior = 350\n",
    "ant_exterior = 500\n",
    "ant_vitalic = 350\n",
    "abo_bidegain = 1000\n",
    "abo_polideportivo = 500\n",
    "vita_abonando = 25\n",
    "cuota_dia_aspo = 1000\n",
    "eve_bid_amba = 50\n",
    "eve_pol_inte = 75\n",
    "eve_bid_inte = 50\n",
    "eve_pol_amba = 75"
   ]
  },
  {
   "cell_type": "code",
   "execution_count": 13,
   "id": "italic-corporation",
   "metadata": {},
   "outputs": [],
   "source": [
    "def calc_puntos(dfinput, patrimonial, refundador, debito, ant_simple, ant_pleno, ant_interior, \\\n",
    "                ant_exterior, ant_vitalic, abo_bidegain, abo_polideportivo, eve_bid_amba, eve_bid_inte, \\\n",
    "                cancha_mujer = 1):\n",
    "    df = dfinput.copy()\n",
    "    df['puntos'] = 0\n",
    "\n",
    "    df.loc[df['tipo_socio']=='PATRIMONIAL', 'puntos'] += patrimonial\n",
    "    df.loc[df['refunda']==1, 'puntos'] += refundador\n",
    "    df.loc[df['forma_pago']=='DEBITO', 'puntos'] += debito\n",
    "\n",
    "    df.loc[df['tipo_socio']=='SIMPLE', 'puntos'] += df.loc[df['tipo_socio']=='SIMPLE', 'antig'] * ant_simple\n",
    "    df.loc[df['tipo_socio']=='PLENO', 'puntos'] += df.loc[df['tipo_socio']=='PLENO', 'antig'] * ant_pleno\n",
    "    df.loc[df['tipo_socio']=='INTERIOR', 'puntos'] += df.loc[df['tipo_socio']=='INTERIOR', 'antig'] * ant_interior\n",
    "    df.loc[df['tipo_socio']=='EXTERIOR', 'puntos'] += df.loc[df['tipo_socio']=='EXTERIOR', 'antig'] * ant_exterior\n",
    "    df.loc[df['tipo_socio']=='VITALICIO', 'puntos'] += df.loc[df['tipo_socio']=='VITALICIO', 'antig'] * ant_vitalic\n",
    "\n",
    "    df['puntos'] += df['abo_bid_2020'] * abo_bidegain\n",
    "    df['puntos'] += df['abo_bid_2021'] * abo_bidegain\n",
    "    df['puntos'] += df['abo_pol_2020'] * abo_polideportivo\n",
    "    df['puntos'] += df['abo_pol_2021'] * abo_polideportivo\n",
    "\n",
    "    intext = (df['tipo_socio']=='INTERIOR') | (df['tipo_socio']=='EXTERIOR')\n",
    "    df.loc[((~intext) & (df['sexo']=='M')), 'puntos'] += df.loc[~intext, 'eve_2018'] * eve_bid_amba\n",
    "    df.loc[((~intext) & (df['sexo']=='M')), 'puntos'] += df.loc[~intext, 'eve_2019'] * eve_bid_amba\n",
    "    df.loc[((~intext) & (df['sexo']=='M')), 'puntos'] += df.loc[~intext, 'eve_2020'] * eve_bid_amba\n",
    "\n",
    "    df.loc[((~intext) & (df['sexo']=='F')), 'puntos'] += (df.loc[~intext, 'eve_2018'] * eve_bid_amba * cancha_mujer)\n",
    "    df.loc[((~intext) & (df['sexo']=='F')), 'puntos'] += (df.loc[~intext, 'eve_2018'] * eve_bid_amba * cancha_mujer)\n",
    "    df.loc[((~intext) & (df['sexo']=='F')), 'puntos'] += (df.loc[~intext, 'eve_2018'] * eve_bid_amba * cancha_mujer)\n",
    "    \n",
    "    df.loc[((intext) & (df['sexo']=='M')), 'puntos'] += df.loc[intext, 'eve_2018'] * eve_bid_inte\n",
    "    df.loc[((intext) & (df['sexo']=='M')), 'puntos'] += df.loc[intext, 'eve_2019'] * eve_bid_inte\n",
    "    df.loc[((intext) & (df['sexo']=='M')), 'puntos'] += df.loc[intext, 'eve_2020'] * eve_bid_inte\n",
    "\n",
    "    df.loc[((intext) & (df['sexo']=='F')), 'puntos'] += (df.loc[intext, 'eve_2018'] * eve_bid_inte * cancha_mujer)\n",
    "    df.loc[((intext) & (df['sexo']=='F')), 'puntos'] += (df.loc[intext, 'eve_2019'] * eve_bid_inte * cancha_mujer)\n",
    "    df.loc[((intext) & (df['sexo']=='F')), 'puntos'] += (df.loc[intext, 'eve_2020'] * eve_bid_inte * cancha_mujer)\n",
    "    \n",
    "    return df"
   ]
  },
  {
   "cell_type": "code",
   "execution_count": 14,
   "id": "declared-anxiety",
   "metadata": {},
   "outputs": [
    {
     "data": {
      "text/plain": [
       "M    45637\n",
       "F    11012\n",
       "Name: sexo, dtype: int64"
      ]
     },
     "execution_count": 14,
     "metadata": {},
     "output_type": "execute_result"
    }
   ],
   "source": [
    "df_socios['sexo'].value_counts()"
   ]
  },
  {
   "cell_type": "code",
   "execution_count": 15,
   "id": "speaking-vacuum",
   "metadata": {},
   "outputs": [
    {
     "data": {
      "text/plain": [
       "sexo\n",
       "F    3472.625318\n",
       "M    4450.847996\n",
       "Name: puntos, dtype: float64"
      ]
     },
     "execution_count": 15,
     "metadata": {},
     "output_type": "execute_result"
    }
   ],
   "source": [
    "df1 = calc_puntos(df_socios, patrimonial, refundador, debito, ant_simple, ant_pleno, ant_interior, \\\n",
    "        ant_exterior, ant_vitalic, abo_bidegain, abo_polideportivo, eve_bid_amba, eve_bid_inte)\n",
    "df1.groupby(['sexo'])['puntos'].mean()"
   ]
  },
  {
   "cell_type": "code",
   "execution_count": 17,
   "id": "single-conditioning",
   "metadata": {},
   "outputs": [
    {
     "data": {
      "text/plain": [
       "sexo\n",
       "F    3588.839448\n",
       "M    4450.847996\n",
       "Name: puntos, dtype: float64"
      ]
     },
     "execution_count": 17,
     "metadata": {},
     "output_type": "execute_result"
    }
   ],
   "source": [
    "df2 = calc_puntos(df_socios, patrimonial, refundador, debito, ant_simple, ant_pleno, ant_interior, \\\n",
    "        ant_exterior, ant_vitalic, abo_bidegain, abo_polideportivo, eve_bid_amba, eve_bid_inte, \\\n",
    "        cancha_mujer = 2)\n",
    "df2.groupby(['sexo'])['puntos'].mean()"
   ]
  },
  {
   "cell_type": "code",
   "execution_count": null,
   "id": "enabling-surprise",
   "metadata": {},
   "outputs": [],
   "source": [
    "df_socios.groupby(['sexo'])['puntos'].mean()"
   ]
  },
  {
   "cell_type": "code",
   "execution_count": null,
   "id": "skilled-coordination",
   "metadata": {},
   "outputs": [],
   "source": []
  },
  {
   "cell_type": "code",
   "execution_count": null,
   "id": "coastal-carter",
   "metadata": {},
   "outputs": [],
   "source": [
    "# round(df.puntos.describe(),1)"
   ]
  },
  {
   "cell_type": "code",
   "execution_count": null,
   "id": "liable-panic",
   "metadata": {},
   "outputs": [],
   "source": [
    "# fig = px.histogram(df, x=\"puntos\", nbins=20, labels={\"puntos\":'Puntos', 'count':'# Socios'}).update_layout(yaxis_title=\"# Socios\")\n",
    "# fig.show()"
   ]
  },
  {
   "cell_type": "code",
   "execution_count": null,
   "id": "radical-armor",
   "metadata": {},
   "outputs": [],
   "source": [
    "df['edad'].describe()"
   ]
  },
  {
   "cell_type": "code",
   "execution_count": null,
   "id": "welsh-persian",
   "metadata": {},
   "outputs": [],
   "source": [
    "round(df[df['tipo_socio']=='SIMPLE'].shape[0]/df.shape[0]*100)"
   ]
  },
  {
   "cell_type": "code",
   "execution_count": null,
   "id": "painted-louisiana",
   "metadata": {},
   "outputs": [],
   "source": [
    "df['eve'] = df['eve_2018'] + df['eve_2019'] + df['eve_2020']\n",
    "df['eve'].describe()"
   ]
  },
  {
   "cell_type": "code",
   "execution_count": null,
   "id": "unique-medicaid",
   "metadata": {},
   "outputs": [],
   "source": [
    "df.columns"
   ]
  },
  {
   "cell_type": "code",
   "execution_count": null,
   "id": "cardiac-resistance",
   "metadata": {},
   "outputs": [],
   "source": [
    "df['antig'].head()"
   ]
  },
  {
   "cell_type": "code",
   "execution_count": null,
   "id": "norman-dietary",
   "metadata": {},
   "outputs": [],
   "source": [
    "df['partidos'].unique()"
   ]
  },
  {
   "cell_type": "code",
   "execution_count": null,
   "id": "blank-henry",
   "metadata": {},
   "outputs": [],
   "source": [
    "# tipo de socios\n",
    "# tipo_socio = list(df['tipo_socio'].unique())\n",
    "tipo_socio = ['TODOS'] + list(df['tipo_socio'].unique())\n",
    "tipo_socio"
   ]
  }
 ],
 "metadata": {
  "kernelspec": {
   "display_name": "Python 3",
   "language": "python",
   "name": "python3"
  },
  "language_info": {
   "codemirror_mode": {
    "name": "ipython",
    "version": 3
   },
   "file_extension": ".py",
   "mimetype": "text/x-python",
   "name": "python",
   "nbconvert_exporter": "python",
   "pygments_lexer": "ipython3",
   "version": "3.8.5"
  }
 },
 "nbformat": 4,
 "nbformat_minor": 5
}
