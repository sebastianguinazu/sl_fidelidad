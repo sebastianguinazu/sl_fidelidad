{
 "cells": [
  {
   "cell_type": "code",
   "execution_count": 6,
   "id": "related-injection",
   "metadata": {},
   "outputs": [],
   "source": [
    "import numpy as np\n",
    "import pandas as pd\n",
    "from pathlib import Path\n",
    "import pickle\n",
    "from datetime import datetime"
   ]
  },
  {
   "cell_type": "code",
   "execution_count": 7,
   "id": "ordered-identifier",
   "metadata": {},
   "outputs": [],
   "source": [
    "# seteo carpetas\n",
    "BASE = Path().absolute().parent\n",
    "RAW = Path(BASE/'raw')\n",
    "DATA = Path(BASE/'data')"
   ]
  },
  {
   "cell_type": "code",
   "execution_count": 11,
   "id": "historic-functionality",
   "metadata": {},
   "outputs": [],
   "source": [
    "def load_datasets():\n",
    "    df = pickle.load( open( DATA/\"df_fide.p\", \"rb\" ) )\n",
    "    df['antig'] = [round((datetime.now() - x).days/365) for x in df['fecha_ingreso']]\n",
    "    df['edad'] = [np.nan if pd.isnull(x) else round((datetime.now() - x).days/365) for x in df['fecha_nac']]\n",
    "    return df"
   ]
  },
  {
   "cell_type": "code",
   "execution_count": 33,
   "id": "matched-civilian",
   "metadata": {},
   "outputs": [],
   "source": [
    "df = load_datasets()\n",
    "# df.head()"
   ]
  },
  {
   "cell_type": "code",
   "execution_count": 14,
   "id": "forward-archives",
   "metadata": {},
   "outputs": [],
   "source": [
    "# seteo valores random\n",
    "patrimonial =  10\n",
    "refundador = 10\n",
    "debito = 10\n",
    "ant_simple = 10\n",
    "ant_pleno = 10\n",
    "ant_interior = 10\n",
    "ant_exterior = 10\n",
    "ant_vitalic = 10\n",
    "abo_bidegain = 10\n",
    "abo_polideportivo = 10\n",
    "vita_abonando = 10\n",
    "cuota_dia_aspo = 10\n",
    "eve_bid_amba = 10\n",
    "eve_pol_inte = 10\n",
    "eve_bid_inte = 10\n",
    "eve_pol_amba = 10"
   ]
  },
  {
   "cell_type": "code",
   "execution_count": 29,
   "id": "deadly-christianity",
   "metadata": {},
   "outputs": [],
   "source": [
    "df['puntos'] = 0"
   ]
  },
  {
   "cell_type": "code",
   "execution_count": 30,
   "id": "historic-empire",
   "metadata": {},
   "outputs": [],
   "source": [
    "df.loc[df['tipo_socio']=='PATRIMONIAL', 'puntos'] += patrimonial\n",
    "df.loc[df['refunda']==1, 'puntos'] += refundador\n",
    "df.loc[df['forma_pago']=='DEBITO', 'puntos'] += debito\n",
    "df.loc[df['tipo_socio']=='SIMPLE', 'puntos'] += df.loc[df['tipo_socio']=='SIMPLE', 'antig'] * ant_simple\n",
    "df.loc[df['tipo_socio']=='PLENO', 'puntos'] += df.loc[df['tipo_socio']=='PLENO', 'antig'] * ant_pleno\n",
    "df.loc[df['tipo_socio']=='INTERIOR', 'puntos'] += df.loc[df['tipo_socio']=='INTERIOR', 'antig'] * ant_interior\n",
    "df.loc[df['tipo_socio']=='EXTERIOR', 'puntos'] += df.loc[df['tipo_socio']=='EXTERIOR', 'antig'] * ant_exterior\n",
    "df.loc[df['tipo_socio']=='VITALICIO', 'puntos'] += df.loc[df['tipo_socio']=='VITALICIO', 'antig'] * ant_vitalic\n"
   ]
  }
 ],
 "metadata": {
  "kernelspec": {
   "display_name": "Python 3",
   "language": "python",
   "name": "python3"
  },
  "language_info": {
   "codemirror_mode": {
    "name": "ipython",
    "version": 3
   },
   "file_extension": ".py",
   "mimetype": "text/x-python",
   "name": "python",
   "nbconvert_exporter": "python",
   "pygments_lexer": "ipython3",
   "version": "3.8.5"
  }
 },
 "nbformat": 4,
 "nbformat_minor": 5
}
