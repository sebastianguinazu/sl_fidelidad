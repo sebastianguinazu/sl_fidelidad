{
 "cells": [
  {
   "cell_type": "markdown",
   "metadata": {},
   "source": [
    "# SL Fidelidad - 01_Load Data"
   ]
  },
  {
   "cell_type": "markdown",
   "metadata": {},
   "source": [
    "Fuentes disponibles:\n",
    "- caracteristicas\n",
    "- abonos\n",
    "- eventos\n",
    "- aspo"
   ]
  },
  {
   "cell_type": "code",
   "execution_count": null,
   "metadata": {},
   "outputs": [],
   "source": [
    "# !pip3 install openpyxl\n",
    "# !pip3 install xlrd\n",
    "!which python"
   ]
  },
  {
   "cell_type": "code",
   "execution_count": null,
   "metadata": {},
   "outputs": [],
   "source": [
    "import pandas as pd\n",
    "import numpy as np\n",
    "from pathlib import Path\n",
    "\n",
    "import pickle\n",
    "\n",
    "import xlrd\n",
    "from openpyxl import load_workbook\n",
    "\n",
    "from helper_functions import str_rem_empty\n",
    "from helper_functions import info_evento\n",
    "\n",
    "from functools import reduce"
   ]
  },
  {
   "cell_type": "code",
   "execution_count": null,
   "metadata": {},
   "outputs": [],
   "source": [
    "# seteo carpetas\n",
    "BASE = Path().absolute().parent\n",
    "RAW = Path(BASE/'raw')\n",
    "DATA = Path(BASE/'data')"
   ]
  },
  {
   "cell_type": "markdown",
   "metadata": {},
   "source": [
    "## Carga de datos y preparacion de tablas"
   ]
  },
  {
   "cell_type": "markdown",
   "metadata": {},
   "source": [
    "#### Tablon de socios"
   ]
  },
  {
   "cell_type": "code",
   "execution_count": null,
   "metadata": {},
   "outputs": [],
   "source": [
    "# caracteristicas\n",
    "df_soc = pd.read_csv(RAW/'padronsocios_202101.csv', sep=';')\n",
    "df_soc.head()"
   ]
  },
  {
   "cell_type": "code",
   "execution_count": null,
   "metadata": {},
   "outputs": [],
   "source": [
    "df_soc.shape"
   ]
  },
  {
   "cell_type": "code",
   "execution_count": null,
   "metadata": {},
   "outputs": [],
   "source": [
    "df_soc.columns"
   ]
  },
  {
   "cell_type": "code",
   "execution_count": null,
   "metadata": {},
   "outputs": [],
   "source": [
    "df_soc['Provincia'].value_counts()"
   ]
  },
  {
   "cell_type": "code",
   "execution_count": null,
   "metadata": {},
   "outputs": [],
   "source": [
    "df_soc['CAT'].value_counts()"
   ]
  },
  {
   "cell_type": "code",
   "execution_count": null,
   "metadata": {
    "scrolled": true
   },
   "outputs": [],
   "source": [
    "# tipo de socio\n",
    "df_soc['tipo_socio'] = 'SIMPLE'\n",
    "df_soc.loc[(df_soc['CAT'] == 'INTERIOR'), 'tipo_socio'] = 'INTERIOR'\n",
    "df_soc.loc[(df_soc['CAT'] == 'EXTERIOR'), 'tipo_socio'] = 'EXTERIOR'\n",
    "df_soc.loc[(df_soc['CAT'] == 'PATRIM'), 'tipo_socio'] = 'PATRIMONIAL'\n",
    "df_soc.loc[(df_soc['CAT'] == 'PLENO'), 'tipo_socio'] = 'PLENO'\n",
    "df_soc.loc[(df_soc['CAT'] == 'VITALICIO'), 'tipo_socio'] = 'VITALICIO'\n",
    "df_soc['tipo_socio'].value_counts()"
   ]
  },
  {
   "cell_type": "code",
   "execution_count": null,
   "metadata": {},
   "outputs": [],
   "source": [
    "# forma de pago\n",
    "df_soc['id_tarjeta'].value_counts()"
   ]
  },
  {
   "cell_type": "code",
   "execution_count": null,
   "metadata": {},
   "outputs": [],
   "source": [
    "df_soc.loc[(df_soc['id_tarjeta'] != 0), 'forma_pago'] = 'DEBITO'\n",
    "df_soc.loc[(df_soc['id_tarjeta'] == 0), 'forma_pago'] = 'EFECTIVO'\n",
    "df_soc['forma_pago'].value_counts()"
   ]
  },
  {
   "cell_type": "code",
   "execution_count": null,
   "metadata": {},
   "outputs": [],
   "source": [
    "# refundador\n",
    "df_soc['Refu'].value_counts()"
   ]
  },
  {
   "cell_type": "code",
   "execution_count": null,
   "metadata": {},
   "outputs": [],
   "source": [
    "df_soc['refunda'] = 0\n",
    "df_soc.loc[(-df_soc['Refu'].isna()), 'refunda'] = 1\n",
    "df_soc['refunda'].value_counts()"
   ]
  },
  {
   "cell_type": "code",
   "execution_count": null,
   "metadata": {},
   "outputs": [],
   "source": [
    "# aspo\n",
    "df_soc['Ult. Cuota Paga'].value_counts()"
   ]
  },
  {
   "cell_type": "code",
   "execution_count": null,
   "metadata": {},
   "outputs": [],
   "source": [
    "df_soc['aspo_dia'] = 0\n",
    "df_soc.loc[df_soc['Ult. Cuota Paga'].str.slice(start=-4)=='2021', 'aspo_dia'] = 1\n",
    "df_soc['aspo_dia'].value_counts()"
   ]
  },
  {
   "cell_type": "code",
   "execution_count": null,
   "metadata": {},
   "outputs": [],
   "source": [
    "# renombro\n",
    "df_soc = df_soc.rename(columns={'Alta': 'fecha_ingreso', 'Fecha Nac.': 'fecha_nac', 'Nro soc': 'socio'})"
   ]
  },
  {
   "cell_type": "code",
   "execution_count": null,
   "metadata": {},
   "outputs": [],
   "source": [
    "df_socios = df_soc[['socio', 'Sexo', 'tipo_socio', 'forma_pago', 'fecha_ingreso', \\\n",
    "                   'refunda', 'fecha_nac', 'aspo_dia']]\n",
    "df_socios.columns = [x.lower() for x in df_socios.columns]"
   ]
  },
  {
   "cell_type": "code",
   "execution_count": null,
   "metadata": {},
   "outputs": [],
   "source": [
    "df_socios.head()"
   ]
  },
  {
   "cell_type": "code",
   "execution_count": null,
   "metadata": {},
   "outputs": [],
   "source": [
    "df_socios.dtypes"
   ]
  },
  {
   "cell_type": "code",
   "execution_count": null,
   "metadata": {},
   "outputs": [],
   "source": [
    "# index a string\n",
    "df_socios = df_socios.loc[-df_socios['socio'].isna()]\n",
    "df_socios['socio'] = df_socios['socio'].astype(int).astype(str)\n",
    "df_socios = df_socios.set_index('socio')"
   ]
  },
  {
   "cell_type": "code",
   "execution_count": null,
   "metadata": {},
   "outputs": [],
   "source": [
    "df_socios.head()"
   ]
  },
  {
   "cell_type": "markdown",
   "metadata": {},
   "source": [
    "#### Abonados"
   ]
  },
  {
   "cell_type": "code",
   "execution_count": null,
   "metadata": {},
   "outputs": [],
   "source": [
    "# abonos\n",
    "df_abo = pd.read_csv(RAW/'abonos_historico.csv', sep=';', encoding = \"ISO-8859-1\")\n",
    "# df_abo.head()"
   ]
  },
  {
   "cell_type": "code",
   "execution_count": null,
   "metadata": {},
   "outputs": [],
   "source": [
    "# df_abo.shape"
   ]
  },
  {
   "cell_type": "code",
   "execution_count": null,
   "metadata": {},
   "outputs": [],
   "source": [
    "# año del abono\n",
    "df_abo['abo_year'] = df_abo['Vencimiento'].str.slice(start = -4)\n",
    "# df_abo['abo_year'].value_counts()"
   ]
  },
  {
   "cell_type": "code",
   "execution_count": null,
   "metadata": {},
   "outputs": [],
   "source": [
    "# cambio de nombre de vars\n",
    "df_abo = df_abo.rename(columns={'Socio': 'socio', 'Apellido y Nombre': 'nombre'})"
   ]
  },
  {
   "cell_type": "code",
   "execution_count": null,
   "metadata": {},
   "outputs": [],
   "source": [
    "# elimino espacios vacios en ultimo caracter de nombre\n",
    "df_abo['nombre'] = [str_rem_empty(x) for x in list(df_abo['nombre'])]"
   ]
  },
  {
   "cell_type": "code",
   "execution_count": null,
   "metadata": {},
   "outputs": [],
   "source": [
    "# pivoteo socio y nombre\n",
    "socio_nombre = df_abo.loc[-df_abo['socio'].isna(), ['socio', 'nombre']]\n",
    "\n",
    "# elimino la columna socio con NaN\n",
    "df_abo = df_abo.drop(['socio'], axis=1)"
   ]
  },
  {
   "cell_type": "code",
   "execution_count": null,
   "metadata": {},
   "outputs": [],
   "source": [
    "# merge\n",
    "df_abo = pd.merge(df_abo, socio_nombre, how='left', on='nombre')"
   ]
  },
  {
   "cell_type": "code",
   "execution_count": null,
   "metadata": {},
   "outputs": [],
   "source": [
    "# filtro abonos que no importan para el analisis\n",
    "df_abo = df_abo[df_abo['Sector']!='ESTACIONAMIENTO']\n",
    "# df_abo['Sector'].value_counts()"
   ]
  },
  {
   "cell_type": "code",
   "execution_count": null,
   "metadata": {},
   "outputs": [],
   "source": [
    "# chequeo nulls\n",
    "print(sum(df_abo['socio'].isna()))\n",
    "# df_abo.loc[df_abo['socio'].isna(), 'nombre']"
   ]
  },
  {
   "cell_type": "code",
   "execution_count": null,
   "metadata": {},
   "outputs": [],
   "source": [
    "# elimino los nulls que quedaron y casteo a str\n",
    "df_abo = df_abo.loc[-df_abo['socio'].isna()]\n",
    "df_abo['socio'] = df_abo['socio'].astype(int).astype(str)"
   ]
  },
  {
   "cell_type": "code",
   "execution_count": null,
   "metadata": {},
   "outputs": [],
   "source": [
    "# df_abo.shape"
   ]
  },
  {
   "cell_type": "code",
   "execution_count": null,
   "metadata": {},
   "outputs": [],
   "source": [
    "# len(df_abo['socio'].unique())"
   ]
  },
  {
   "cell_type": "code",
   "execution_count": null,
   "metadata": {},
   "outputs": [],
   "source": [
    "# genero dataframe con variables por abono\n",
    "dfs = [\n",
    "    # bideg 2020\n",
    "    pd.DataFrame(\n",
    "        {'socio':df_abo.loc[(df_abo['abo_year'] == '2020') & (df_abo['Sector'].isin(['PLATEA SUR', 'PLATEA NORTE']))\\\n",
    "                              , 'socio'].unique()\n",
    "         ,'abo_bid_2020':1}),\n",
    "    # bideg 2021\n",
    "    pd.DataFrame(\n",
    "        {'socio':df_abo.loc[(df_abo['abo_year'] == '2021') & (df_abo['Sector'].isin(['PLATEA SUR', 'PLATEA NORTE']))\\\n",
    "                              , 'socio'].unique()\n",
    "         ,'abo_bid_2021':1}),\n",
    "    # poli 2020\n",
    "    pd.DataFrame(\n",
    "        {'socio':df_abo.loc[(df_abo['abo_year'] == '2020') & (df_abo['Sector']=='POLIDEPORTIVO'), 'socio'].unique()\n",
    "         ,'abo_pol_2020':1}),\n",
    "    # poli 2021\n",
    "    pd.DataFrame(\n",
    "        {'socio':df_abo.loc[(df_abo['abo_year'] == '2021') & (df_abo['Sector']=='POLIDEPORTIVO'), 'socio'].unique()\n",
    "         ,'abo_pol_2021':1})\n",
    "    ]\n",
    "df_abonos = reduce(lambda left,right: pd.merge(left,right,on=['socio'],\n",
    "                                            how='outer'), dfs)"
   ]
  },
  {
   "cell_type": "code",
   "execution_count": null,
   "metadata": {},
   "outputs": [],
   "source": [
    "# df_abonos.shape\n",
    "# df_abonos.head()"
   ]
  },
  {
   "cell_type": "code",
   "execution_count": null,
   "metadata": {},
   "outputs": [],
   "source": [
    "# df_abonos.sum(axis=1).value_counts()"
   ]
  },
  {
   "cell_type": "code",
   "execution_count": null,
   "metadata": {},
   "outputs": [],
   "source": [
    "df_abonos.columns"
   ]
  },
  {
   "cell_type": "code",
   "execution_count": null,
   "metadata": {},
   "outputs": [],
   "source": [
    "df_abonos = df_abonos.set_index('socio')"
   ]
  },
  {
   "cell_type": "markdown",
   "metadata": {},
   "source": [
    "#### Eventos"
   ]
  },
  {
   "cell_type": "code",
   "execution_count": null,
   "metadata": {},
   "outputs": [],
   "source": [
    "# eventos\n",
    "eve = load_workbook(filename = RAW/'eventos.xlsx')\n",
    "eve_sheets = eve.sheetnames"
   ]
  },
  {
   "cell_type": "code",
   "execution_count": null,
   "metadata": {},
   "outputs": [],
   "source": [
    "print(eve_sheets)\n",
    "eve_sheets.remove('Abonado')\n",
    "eve_sheets.remove('UNOxSOCIO')"
   ]
  },
  {
   "cell_type": "code",
   "execution_count": null,
   "metadata": {},
   "outputs": [],
   "source": [
    "# ejemplo\n",
    "# info_evento(eve_sheets[0])"
   ]
  },
  {
   "cell_type": "code",
   "execution_count": null,
   "metadata": {},
   "outputs": [],
   "source": [
    "# corro la funcion para todas las solapas y almaceno los resultados en un diccionario\n",
    "eventos = {}\n",
    "for eve in range(len(eve_sheets)):\n",
    "    eventos[eve] = info_evento(eve_sheets[eve])"
   ]
  },
  {
   "cell_type": "code",
   "execution_count": null,
   "metadata": {},
   "outputs": [],
   "source": [
    "# print(len(eventos))\n",
    "# print(type(eventos[0]))\n",
    "# print(eventos[0].keys())"
   ]
  },
  {
   "cell_type": "code",
   "execution_count": null,
   "metadata": {},
   "outputs": [],
   "source": [
    "# publico promedio\n",
    "np.mean(np.array([int(eventos[x]['publico']) for x in eventos]))"
   ]
  },
  {
   "cell_type": "code",
   "execution_count": null,
   "metadata": {},
   "outputs": [],
   "source": [
    "# socios totales que asistieron a algun evento\n",
    "socios_eve = []\n",
    "for eve in eventos:\n",
    "    socios_eve.extend(list(eventos[eve]['socios']))\n",
    "# print(len(socios_eve))\n",
    "socios_eve = list(set(socios_eve))\n",
    "# print(len(socios_eve))"
   ]
  },
  {
   "cell_type": "code",
   "execution_count": null,
   "metadata": {},
   "outputs": [],
   "source": [
    "# genero un data frame con la # de eventos por socio por año\n",
    "socios_eventos = pd.DataFrame({'socio': socios_eve\n",
    "                              ,'eve_2018': np.zeros(len(socios_eve))\n",
    "                              ,'eve_2019': np.zeros(len(socios_eve))\n",
    "                              ,'eve_2020': np.zeros(len(socios_eve))})"
   ]
  },
  {
   "cell_type": "code",
   "execution_count": null,
   "metadata": {},
   "outputs": [],
   "source": [
    "# cantidad de partidos asistidos por socio por año\n",
    "for socio in range(len(socios_eventos['socio'])):\n",
    "    for evento in eventos:\n",
    "        if eventos[evento]['fecha'].year == 2018:\n",
    "            socios_eventos['eve_2018'][socio] += (socios_eventos['socio'][socio] in eventos[evento]['socios'])\n",
    "        if eventos[evento]['fecha'].year == 2019:\n",
    "            socios_eventos['eve_2019'][socio] += (socios_eventos['socio'][socio] in eventos[evento]['socios'])  \n",
    "        if eventos[evento]['fecha'].year == 2020:\n",
    "            socios_eventos['eve_2020'][socio] += (socios_eventos['socio'][socio] in eventos[evento]['socios'])"
   ]
  },
  {
   "cell_type": "code",
   "execution_count": null,
   "metadata": {},
   "outputs": [],
   "source": [
    "socios_eventos['socio'] = socios_eventos['socio'].astype(int).astype(str)\n",
    "df_eventos = socios_eventos.set_index('socio')\n",
    "# df_eventos.head()"
   ]
  },
  {
   "cell_type": "markdown",
   "metadata": {},
   "source": [
    "## Salvo las bases"
   ]
  },
  {
   "cell_type": "code",
   "execution_count": null,
   "metadata": {},
   "outputs": [],
   "source": [
    "# socios\n",
    "pickle.dump( df_socios, open( DATA/\"df_socios.p\", \"wb\" ) )\n",
    "# abonos\n",
    "pickle.dump( df_abonos, open( DATA/\"df_abonos.p\", \"wb\" ) )\n",
    "# eventos\n",
    "pickle.dump( df_eventos, open( DATA/\"df_eventos.p\", \"wb\" ) )"
   ]
  },
  {
   "cell_type": "code",
   "execution_count": null,
   "metadata": {},
   "outputs": [],
   "source": []
  }
 ],
 "metadata": {
  "kernelspec": {
   "display_name": "Python 3",
   "language": "python",
   "name": "python3"
  },
  "language_info": {
   "codemirror_mode": {
    "name": "ipython",
    "version": 3
   },
   "file_extension": ".py",
   "mimetype": "text/x-python",
   "name": "python",
   "nbconvert_exporter": "python",
   "pygments_lexer": "ipython3",
   "version": "3.8.10"
  }
 },
 "nbformat": 4,
 "nbformat_minor": 4
}
