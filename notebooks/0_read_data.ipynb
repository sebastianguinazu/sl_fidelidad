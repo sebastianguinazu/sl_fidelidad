{
 "cells": [
  {
   "cell_type": "markdown",
   "metadata": {},
   "source": [
    "# SL Fidelidad - 01_Carga de datos"
   ]
  },
  {
   "cell_type": "markdown",
   "metadata": {},
   "source": [
    "Fuentes disponibles:\n",
    "- caracteristicas\n",
    "- abonos\n",
    "- eventos"
   ]
  },
  {
   "cell_type": "code",
   "execution_count": 18,
   "metadata": {},
   "outputs": [],
   "source": [
    "# !pip install openpyxl\n",
    "# !pip install xlrd"
   ]
  },
  {
   "cell_type": "code",
   "execution_count": 79,
   "metadata": {},
   "outputs": [],
   "source": [
    "import pandas as pd\n",
    "import numpy as np\n",
    "from pathlib import Path\n",
    "import pickle\n",
    "\n",
    "import xlrd\n",
    "from openpyxl import load_workbook"
   ]
  },
  {
   "cell_type": "code",
   "execution_count": 4,
   "metadata": {},
   "outputs": [],
   "source": [
    "# seteo carpetas\n",
    "BASE = Path().absolute().parent\n",
    "RAW = Path(BASE/'raw')\n",
    "DATA = Path(BASE/'data')"
   ]
  },
  {
   "cell_type": "markdown",
   "metadata": {},
   "source": [
    "### Carga de datos y preparacion de tablas"
   ]
  },
  {
   "cell_type": "markdown",
   "metadata": {},
   "source": [
    "#### Tablon de socios"
   ]
  },
  {
   "cell_type": "code",
   "execution_count": 20,
   "metadata": {},
   "outputs": [
    {
     "data": {
      "text/html": [
       "<div>\n",
       "<style scoped>\n",
       "    .dataframe tbody tr th:only-of-type {\n",
       "        vertical-align: middle;\n",
       "    }\n",
       "\n",
       "    .dataframe tbody tr th {\n",
       "        vertical-align: top;\n",
       "    }\n",
       "\n",
       "    .dataframe thead th {\n",
       "        text-align: right;\n",
       "    }\n",
       "</style>\n",
       "<table border=\"1\" class=\"dataframe\">\n",
       "  <thead>\n",
       "    <tr style=\"text-align: right;\">\n",
       "      <th></th>\n",
       "      <th>Socio</th>\n",
       "      <th>Nombre</th>\n",
       "      <th>Nro. Doc.</th>\n",
       "      <th>Sexo</th>\n",
       "      <th>F. Ingreso</th>\n",
       "      <th>Rec/Desc</th>\n",
       "      <th>Forma de pago</th>\n",
       "      <th>Tarjeta</th>\n",
       "      <th>Tipo de socio</th>\n",
       "      <th>Categoria</th>\n",
       "      <th>Estado</th>\n",
       "      <th>UCP</th>\n",
       "    </tr>\n",
       "  </thead>\n",
       "  <tbody>\n",
       "    <tr>\n",
       "      <th>0</th>\n",
       "      <td>1</td>\n",
       "      <td>(N) COLOM MIGUEL</td>\n",
       "      <td>10607485</td>\n",
       "      <td>M</td>\n",
       "      <td>1952-06-27</td>\n",
       "      <td>&lt;Ninguno&gt;</td>\n",
       "      <td>Efectivo</td>\n",
       "      <td>&lt;Ninguna&gt;</td>\n",
       "      <td>VITALICIO</td>\n",
       "      <td>VITALICIO</td>\n",
       "      <td>Activo</td>\n",
       "      <td>NaT</td>\n",
       "    </tr>\n",
       "    <tr>\n",
       "      <th>1</th>\n",
       "      <td>2</td>\n",
       "      <td>TOMAS BERNARDI</td>\n",
       "      <td>1987009</td>\n",
       "      <td>M</td>\n",
       "      <td>1953-03-06</td>\n",
       "      <td>&lt;Ninguno&gt;</td>\n",
       "      <td>Efectivo</td>\n",
       "      <td>&lt;Ninguna&gt;</td>\n",
       "      <td>VITALICIO</td>\n",
       "      <td>VITALICIO</td>\n",
       "      <td>Activo</td>\n",
       "      <td>NaT</td>\n",
       "    </tr>\n",
       "    <tr>\n",
       "      <th>2</th>\n",
       "      <td>3</td>\n",
       "      <td>(N) FERREIRO MODESTO</td>\n",
       "      <td>452207</td>\n",
       "      <td>M</td>\n",
       "      <td>1953-03-06</td>\n",
       "      <td>&lt;Ninguno&gt;</td>\n",
       "      <td>Efectivo</td>\n",
       "      <td>&lt;Ninguna&gt;</td>\n",
       "      <td>VITALICIO</td>\n",
       "      <td>VITALICIO</td>\n",
       "      <td>Activo</td>\n",
       "      <td>NaT</td>\n",
       "    </tr>\n",
       "    <tr>\n",
       "      <th>3</th>\n",
       "      <td>4</td>\n",
       "      <td>(N) PONCELIZ HORACIO M</td>\n",
       "      <td>1004835</td>\n",
       "      <td>M</td>\n",
       "      <td>1954-04-02</td>\n",
       "      <td>&lt;Ninguno&gt;</td>\n",
       "      <td>Efectivo</td>\n",
       "      <td>&lt;Ninguna&gt;</td>\n",
       "      <td>VITALICIO</td>\n",
       "      <td>VITALICIO</td>\n",
       "      <td>Activo</td>\n",
       "      <td>NaT</td>\n",
       "    </tr>\n",
       "    <tr>\n",
       "      <th>4</th>\n",
       "      <td>5</td>\n",
       "      <td>(N) RIZZO CARMELO</td>\n",
       "      <td>2392330</td>\n",
       "      <td>M</td>\n",
       "      <td>1954-04-02</td>\n",
       "      <td>&lt;Ninguno&gt;</td>\n",
       "      <td>Efectivo</td>\n",
       "      <td>&lt;Ninguna&gt;</td>\n",
       "      <td>VITALICIO</td>\n",
       "      <td>VITALICIO</td>\n",
       "      <td>Activo</td>\n",
       "      <td>NaT</td>\n",
       "    </tr>\n",
       "  </tbody>\n",
       "</table>\n",
       "</div>"
      ],
      "text/plain": [
       "   Socio                  Nombre Nro. Doc. Sexo F. Ingreso   Rec/Desc  \\\n",
       "0      1        (N) COLOM MIGUEL  10607485    M 1952-06-27  <Ninguno>   \n",
       "1      2          TOMAS BERNARDI   1987009    M 1953-03-06  <Ninguno>   \n",
       "2      3    (N) FERREIRO MODESTO    452207    M 1953-03-06  <Ninguno>   \n",
       "3      4  (N) PONCELIZ HORACIO M   1004835    M 1954-04-02  <Ninguno>   \n",
       "4      5       (N) RIZZO CARMELO   2392330    M 1954-04-02  <Ninguno>   \n",
       "\n",
       "  Forma de pago    Tarjeta Tipo de socio  Categoria  Estado UCP  \n",
       "0      Efectivo  <Ninguna>     VITALICIO  VITALICIO  Activo NaT  \n",
       "1      Efectivo  <Ninguna>     VITALICIO  VITALICIO  Activo NaT  \n",
       "2      Efectivo  <Ninguna>     VITALICIO  VITALICIO  Activo NaT  \n",
       "3      Efectivo  <Ninguna>     VITALICIO  VITALICIO  Activo NaT  \n",
       "4      Efectivo  <Ninguna>     VITALICIO  VITALICIO  Activo NaT  "
      ]
     },
     "execution_count": 20,
     "metadata": {},
     "output_type": "execute_result"
    }
   ],
   "source": [
    "# caracteristicas\n",
    "df_soc = pd.read_excel(RAW/'socios_20200101.xlsx', engine='openpyxl')\n",
    "df_soc.head()"
   ]
  },
  {
   "cell_type": "code",
   "execution_count": 238,
   "metadata": {},
   "outputs": [
    {
     "data": {
      "text/plain": [
       "1 - SIMPLE             38716\n",
       "2 - PLENO              12072\n",
       "3 - INTERIOR           10689\n",
       "VITALICIO               4078\n",
       "5 - PATRIMONIAL          762\n",
       "4 - EXTERIOR             329\n",
       "HONORARIO                 31\n",
       "HONORARIO SIMPLE           6\n",
       "HONORARIO INTERIOR         2\n",
       "HONORARIO VITALICIO        1\n",
       "Name: Tipo de socio, dtype: int64"
      ]
     },
     "execution_count": 238,
     "metadata": {},
     "output_type": "execute_result"
    }
   ],
   "source": [
    "df_soc['Tipo de socio'].value_counts()"
   ]
  },
  {
   "cell_type": "code",
   "execution_count": 246,
   "metadata": {},
   "outputs": [
    {
     "data": {
      "text/plain": [
       "SIMPLE         38756\n",
       "PLENO          12072\n",
       "INTERIOR       10689\n",
       "VITALICIO       4078\n",
       "PATRIMONIAL      762\n",
       "EXTERIOR         329\n",
       "Name: tipo_socio, dtype: int64"
      ]
     },
     "execution_count": 246,
     "metadata": {},
     "output_type": "execute_result"
    }
   ],
   "source": [
    "# tipo de socio\n",
    "df_soc['tipo_socio'] = 'SIMPLE'\n",
    "df_soc.loc[(df_soc['Tipo de socio'] == '3 - INTERIOR'), 'tipo_socio'] = 'INTERIOR'\n",
    "df_soc.loc[(df_soc['Tipo de socio'] == '4 - EXTERIOR'), 'tipo_socio'] = 'EXTERIOR'\n",
    "df_soc.loc[(df_soc['Tipo de socio'] == '5 - PATRIMONIAL'), 'tipo_socio'] = 'PATRIMONIAL'\n",
    "df_soc.loc[(df_soc['Tipo de socio'] == '2 - PLENO'), 'tipo_socio'] = 'PLENO'\n",
    "df_soc.loc[(df_soc['Tipo de socio'] == 'VITALICIO'), 'tipo_socio'] = 'VITALICIO'\n",
    "df_soc['tipo_socio'].value_counts()"
   ]
  },
  {
   "cell_type": "code",
   "execution_count": 251,
   "metadata": {},
   "outputs": [
    {
     "name": "stdout",
     "output_type": "stream",
     "text": [
      "Débito Automático    48705\n",
      "Efectivo             17981\n",
      "Name: Forma de pago, dtype: int64\n"
     ]
    }
   ],
   "source": [
    "# forma de pago\n",
    "print(df_soc['Forma de pago'].value_counts())\n",
    "df_soc.loc[(df_soc['Forma de pago'] == 'Débito Automático'), 'forma_pago'] = 'DEBITO'\n",
    "df_soc.loc[(df_soc['Forma de pago'] == 'Efectivo'), 'forma_pago'] = 'EFECTIVO'"
   ]
  },
  {
   "cell_type": "code",
   "execution_count": 318,
   "metadata": {},
   "outputs": [
    {
     "data": {
      "text/html": [
       "<div>\n",
       "<style scoped>\n",
       "    .dataframe tbody tr th:only-of-type {\n",
       "        vertical-align: middle;\n",
       "    }\n",
       "\n",
       "    .dataframe tbody tr th {\n",
       "        vertical-align: top;\n",
       "    }\n",
       "\n",
       "    .dataframe thead th {\n",
       "        text-align: right;\n",
       "    }\n",
       "</style>\n",
       "<table border=\"1\" class=\"dataframe\">\n",
       "  <thead>\n",
       "    <tr style=\"text-align: right;\">\n",
       "      <th></th>\n",
       "      <th>Sexo</th>\n",
       "      <th>tipo_socio</th>\n",
       "      <th>forma_pago</th>\n",
       "    </tr>\n",
       "    <tr>\n",
       "      <th>Socio</th>\n",
       "      <th></th>\n",
       "      <th></th>\n",
       "      <th></th>\n",
       "    </tr>\n",
       "  </thead>\n",
       "  <tbody>\n",
       "    <tr>\n",
       "      <th>1</th>\n",
       "      <td>M</td>\n",
       "      <td>VITALICIO</td>\n",
       "      <td>EFECTIVO</td>\n",
       "    </tr>\n",
       "    <tr>\n",
       "      <th>2</th>\n",
       "      <td>M</td>\n",
       "      <td>VITALICIO</td>\n",
       "      <td>EFECTIVO</td>\n",
       "    </tr>\n",
       "    <tr>\n",
       "      <th>3</th>\n",
       "      <td>M</td>\n",
       "      <td>VITALICIO</td>\n",
       "      <td>EFECTIVO</td>\n",
       "    </tr>\n",
       "    <tr>\n",
       "      <th>4</th>\n",
       "      <td>M</td>\n",
       "      <td>VITALICIO</td>\n",
       "      <td>EFECTIVO</td>\n",
       "    </tr>\n",
       "    <tr>\n",
       "      <th>5</th>\n",
       "      <td>M</td>\n",
       "      <td>VITALICIO</td>\n",
       "      <td>EFECTIVO</td>\n",
       "    </tr>\n",
       "  </tbody>\n",
       "</table>\n",
       "</div>"
      ],
      "text/plain": [
       "      Sexo tipo_socio forma_pago\n",
       "Socio                           \n",
       "1        M  VITALICIO   EFECTIVO\n",
       "2        M  VITALICIO   EFECTIVO\n",
       "3        M  VITALICIO   EFECTIVO\n",
       "4        M  VITALICIO   EFECTIVO\n",
       "5        M  VITALICIO   EFECTIVO"
      ]
     },
     "execution_count": 318,
     "metadata": {},
     "output_type": "execute_result"
    }
   ],
   "source": [
    "df_socios = df_soc[['Socio', 'Sexo', 'tipo_socio', 'forma_pago']]\n",
    "df_socios = df_socios.set_index('Socio')\n",
    "df_socios.head()"
   ]
  },
  {
   "cell_type": "markdown",
   "metadata": {},
   "source": [
    "#### Abonados"
   ]
  },
  {
   "cell_type": "code",
   "execution_count": 24,
   "metadata": {},
   "outputs": [
    {
     "data": {
      "text/html": [
       "<div>\n",
       "<style scoped>\n",
       "    .dataframe tbody tr th:only-of-type {\n",
       "        vertical-align: middle;\n",
       "    }\n",
       "\n",
       "    .dataframe tbody tr th {\n",
       "        vertical-align: top;\n",
       "    }\n",
       "\n",
       "    .dataframe thead th {\n",
       "        text-align: right;\n",
       "    }\n",
       "</style>\n",
       "<table border=\"1\" class=\"dataframe\">\n",
       "  <thead>\n",
       "    <tr style=\"text-align: right;\">\n",
       "      <th></th>\n",
       "      <th>Socio</th>\n",
       "      <th>Abono</th>\n",
       "      <th>Apellido y Nombre</th>\n",
       "      <th>Unnamed: 3</th>\n",
       "      <th>UCP</th>\n",
       "      <th>Fila</th>\n",
       "      <th>Asiento</th>\n",
       "      <th>Sector</th>\n",
       "      <th>Seccion</th>\n",
       "      <th>Tarifa</th>\n",
       "      <th>Vencimiento</th>\n",
       "      <th>Mail</th>\n",
       "      <th>Telefono</th>\n",
       "      <th>Celular</th>\n",
       "      <th>Unnamed: 14</th>\n",
       "      <th>Original</th>\n",
       "      <th>Pago</th>\n",
       "    </tr>\n",
       "  </thead>\n",
       "  <tbody>\n",
       "    <tr>\n",
       "      <th>0</th>\n",
       "      <td>NaN</td>\n",
       "      <td>381.0</td>\n",
       "      <td>ALVAREZ ROBERTO</td>\n",
       "      <td>NaN</td>\n",
       "      <td>NaN</td>\n",
       "      <td>1.0</td>\n",
       "      <td>10.0</td>\n",
       "      <td>ESTACIONAMIENTO</td>\n",
       "      <td>EST AV PERITO MORENO 2</td>\n",
       "      <td>ABONO E RENOVACION -5% Refund</td>\n",
       "      <td>31/12/2020</td>\n",
       "      <td>NaN</td>\n",
       "      <td>NaN</td>\n",
       "      <td>NaN</td>\n",
       "      <td>NaN</td>\n",
       "      <td>$ 49.590,00</td>\n",
       "      <td>$ 49.590,00</td>\n",
       "    </tr>\n",
       "    <tr>\n",
       "      <th>1</th>\n",
       "      <td>NaN</td>\n",
       "      <td>58074.0</td>\n",
       "      <td>ARRECEYGOR CARLOS HORACIO</td>\n",
       "      <td>NaN</td>\n",
       "      <td>NaN</td>\n",
       "      <td>1.0</td>\n",
       "      <td>7.0</td>\n",
       "      <td>ESTACIONAMIENTO</td>\n",
       "      <td>EST AV PERITO MORENO 2</td>\n",
       "      <td>ABONO E RENOVACION</td>\n",
       "      <td>31/12/2019</td>\n",
       "      <td>NaN</td>\n",
       "      <td>NaN</td>\n",
       "      <td>NaN</td>\n",
       "      <td>NaN</td>\n",
       "      <td>$ 51.660,00</td>\n",
       "      <td>$ 51.660,00</td>\n",
       "    </tr>\n",
       "    <tr>\n",
       "      <th>2</th>\n",
       "      <td>NaN</td>\n",
       "      <td>61704.0</td>\n",
       "      <td>BELLUOMO JUAN PABLO</td>\n",
       "      <td>NaN</td>\n",
       "      <td>NaN</td>\n",
       "      <td>1.0</td>\n",
       "      <td>39.0</td>\n",
       "      <td>ESTACIONAMIENTO</td>\n",
       "      <td>EST AV PERITO MORENO 2</td>\n",
       "      <td>ABONO E NUEVO</td>\n",
       "      <td>31/12/2019</td>\n",
       "      <td>NaN</td>\n",
       "      <td>NaN</td>\n",
       "      <td>NaN</td>\n",
       "      <td>NaN</td>\n",
       "      <td>$ 24.000,00</td>\n",
       "      <td>$ 24.000,00</td>\n",
       "    </tr>\n",
       "    <tr>\n",
       "      <th>3</th>\n",
       "      <td>NaN</td>\n",
       "      <td>4187.0</td>\n",
       "      <td>BERNASCHINA HECTOR FRANCISCO</td>\n",
       "      <td>NaN</td>\n",
       "      <td>NaN</td>\n",
       "      <td>1.0</td>\n",
       "      <td>16.0</td>\n",
       "      <td>ESTACIONAMIENTO</td>\n",
       "      <td>EST AV PERITO MORENO 2</td>\n",
       "      <td>ABONO E RENOVACION</td>\n",
       "      <td>31/12/2019</td>\n",
       "      <td>NaN</td>\n",
       "      <td>NaN</td>\n",
       "      <td>NaN</td>\n",
       "      <td>NaN</td>\n",
       "      <td>$ 41.250,00</td>\n",
       "      <td>$ 41.250,00</td>\n",
       "    </tr>\n",
       "    <tr>\n",
       "      <th>4</th>\n",
       "      <td>NaN</td>\n",
       "      <td>32918.0</td>\n",
       "      <td>BOUZON GUSTAVO BALTASAR</td>\n",
       "      <td>NaN</td>\n",
       "      <td>NaN</td>\n",
       "      <td>1.0</td>\n",
       "      <td>1.0</td>\n",
       "      <td>ESTACIONAMIENTO</td>\n",
       "      <td>EST AV PERITO MORENO 2</td>\n",
       "      <td>ABONO AFA ANUAL</td>\n",
       "      <td>31/12/2020</td>\n",
       "      <td>NaN</td>\n",
       "      <td>NaN</td>\n",
       "      <td>NaN</td>\n",
       "      <td>NaN</td>\n",
       "      <td>$ 0,00</td>\n",
       "      <td>$ 0,00</td>\n",
       "    </tr>\n",
       "  </tbody>\n",
       "</table>\n",
       "</div>"
      ],
      "text/plain": [
       "   Socio    Abono             Apellido y Nombre  Unnamed: 3  UCP  Fila  \\\n",
       "0    NaN    381.0               ALVAREZ ROBERTO         NaN  NaN   1.0   \n",
       "1    NaN  58074.0     ARRECEYGOR CARLOS HORACIO         NaN  NaN   1.0   \n",
       "2    NaN  61704.0           BELLUOMO JUAN PABLO         NaN  NaN   1.0   \n",
       "3    NaN   4187.0  BERNASCHINA HECTOR FRANCISCO         NaN  NaN   1.0   \n",
       "4    NaN  32918.0       BOUZON GUSTAVO BALTASAR         NaN  NaN   1.0   \n",
       "\n",
       "   Asiento           Sector                 Seccion  \\\n",
       "0     10.0  ESTACIONAMIENTO  EST AV PERITO MORENO 2   \n",
       "1      7.0  ESTACIONAMIENTO  EST AV PERITO MORENO 2   \n",
       "2     39.0  ESTACIONAMIENTO  EST AV PERITO MORENO 2   \n",
       "3     16.0  ESTACIONAMIENTO  EST AV PERITO MORENO 2   \n",
       "4      1.0  ESTACIONAMIENTO  EST AV PERITO MORENO 2   \n",
       "\n",
       "                          Tarifa Vencimiento Mail Telefono Celular  \\\n",
       "0  ABONO E RENOVACION -5% Refund  31/12/2020  NaN      NaN     NaN   \n",
       "1             ABONO E RENOVACION  31/12/2019  NaN      NaN     NaN   \n",
       "2                  ABONO E NUEVO  31/12/2019  NaN      NaN     NaN   \n",
       "3             ABONO E RENOVACION  31/12/2019  NaN      NaN     NaN   \n",
       "4                ABONO AFA ANUAL  31/12/2020  NaN      NaN     NaN   \n",
       "\n",
       "   Unnamed: 14     Original         Pago  \n",
       "0          NaN  $ 49.590,00  $ 49.590,00  \n",
       "1          NaN  $ 51.660,00  $ 51.660,00  \n",
       "2          NaN  $ 24.000,00  $ 24.000,00  \n",
       "3          NaN  $ 41.250,00  $ 41.250,00  \n",
       "4          NaN       $ 0,00       $ 0,00  "
      ]
     },
     "execution_count": 24,
     "metadata": {},
     "output_type": "execute_result"
    }
   ],
   "source": [
    "# abonos\n",
    "df_abo = pd.read_csv(RAW/'abonos_historico.csv', sep=';', encoding = \"ISO-8859-1\")\n",
    "df_abo.head()"
   ]
  },
  {
   "cell_type": "code",
   "execution_count": 264,
   "metadata": {},
   "outputs": [
    {
     "data": {
      "text/plain": [
       "PLATEA SUR       2903\n",
       "PLATEA NORTE     2548\n",
       "POLIDEPORTIVO     652\n",
       "Name: Sector, dtype: int64"
      ]
     },
     "execution_count": 264,
     "metadata": {},
     "output_type": "execute_result"
    }
   ],
   "source": [
    "df_abo = df_abo[df_abo['Sector']!='ESTACIONAMIENTO']\n",
    "df_abo['Sector'].value_counts()"
   ]
  },
  {
   "cell_type": "code",
   "execution_count": 266,
   "metadata": {},
   "outputs": [
    {
     "data": {
      "text/plain": [
       "2020    3527\n",
       "2019    2366\n",
       "2023     118\n",
       "2021      52\n",
       "2022      20\n",
       "2024      16\n",
       "2029       2\n",
       "2026       2\n",
       "Name: abo_year, dtype: int64"
      ]
     },
     "execution_count": 266,
     "metadata": {},
     "output_type": "execute_result"
    }
   ],
   "source": [
    "df_abo['abo_year'] = df_abo['Vencimiento'].str.slice(start = -4)\n",
    "df_abo['abo_year'].value_counts()"
   ]
  },
  {
   "cell_type": "code",
   "execution_count": 306,
   "metadata": {},
   "outputs": [
    {
     "data": {
      "text/plain": [
       "(6104, 18)"
      ]
     },
     "execution_count": 306,
     "metadata": {},
     "output_type": "execute_result"
    }
   ],
   "source": [
    "df_abo.shape"
   ]
  },
  {
   "cell_type": "code",
   "execution_count": 314,
   "metadata": {},
   "outputs": [
    {
     "data": {
      "text/plain": [
       "4958"
      ]
     },
     "execution_count": 314,
     "metadata": {},
     "output_type": "execute_result"
    }
   ],
   "source": [
    "len(df_abo['Socio'].unique())"
   ]
  },
  {
   "cell_type": "code",
   "execution_count": 303,
   "metadata": {},
   "outputs": [],
   "source": [
    "# genero dataframe con variables por abono\n",
    "df_abonos = pd.concat([\n",
    "    # bidegain 2020\n",
    "    pd.DataFrame(\n",
    "        {'socio':df_abo.loc[(df_abo['abo_year'] == '2020') & (df_abo['Sector'].isin(['PLATEA SUR', 'PLATEA NORTE']))\\\n",
    "                              , 'Socio']\n",
    "         ,'abo_bid_2020':1}\n",
    "    ).set_index('socio'),\n",
    "    # bidegain 2021\n",
    "    pd.DataFrame(\n",
    "        {'socio':df_abo.loc[(df_abo['abo_year'] == '2021') & (df_abo['Sector'].isin(['PLATEA SUR', 'PLATEA NORTE']))\\\n",
    "                              , 'Socio']\n",
    "         ,'abo_bid_2021':1}\n",
    "    ).set_index('socio'),\n",
    "    # polideportivo 2020\n",
    "    pd.DataFrame(\n",
    "        {'socio':df_abo.loc[(df_abo['abo_year'] == '2020') & (df_abo['Sector']=='POLIDEPORTIVO'), 'Socio']\n",
    "         ,'abo_pol_2020':1}\n",
    "    ).set_index('socio'),\n",
    "    # polideportivo 2021\n",
    "    pd.DataFrame(\n",
    "        {'socio':df_abo.loc[(df_abo['abo_year'] == '2021') & (df_abo['Sector']=='POLIDEPORTIVO'), 'Socio']\n",
    "         ,'abo_pol_2021':1}\n",
    "    ).set_index('socio')\n",
    "    ], axis=1)"
   ]
  },
  {
   "cell_type": "code",
   "execution_count": 305,
   "metadata": {},
   "outputs": [
    {
     "data": {
      "text/html": [
       "<div>\n",
       "<style scoped>\n",
       "    .dataframe tbody tr th:only-of-type {\n",
       "        vertical-align: middle;\n",
       "    }\n",
       "\n",
       "    .dataframe tbody tr th {\n",
       "        vertical-align: top;\n",
       "    }\n",
       "\n",
       "    .dataframe thead th {\n",
       "        text-align: right;\n",
       "    }\n",
       "</style>\n",
       "<table border=\"1\" class=\"dataframe\">\n",
       "  <thead>\n",
       "    <tr style=\"text-align: right;\">\n",
       "      <th></th>\n",
       "      <th>abo_bid_2020</th>\n",
       "      <th>abo_bid_2021</th>\n",
       "      <th>abo_pol_2020</th>\n",
       "      <th>abo_pol_2021</th>\n",
       "      <th>aux</th>\n",
       "    </tr>\n",
       "    <tr>\n",
       "      <th>socio</th>\n",
       "      <th></th>\n",
       "      <th></th>\n",
       "      <th></th>\n",
       "      <th></th>\n",
       "      <th></th>\n",
       "    </tr>\n",
       "  </thead>\n",
       "  <tbody>\n",
       "    <tr>\n",
       "      <th>1475.0</th>\n",
       "      <td>1.0</td>\n",
       "      <td>NaN</td>\n",
       "      <td>NaN</td>\n",
       "      <td>NaN</td>\n",
       "      <td>NaN</td>\n",
       "    </tr>\n",
       "    <tr>\n",
       "      <th>1630.0</th>\n",
       "      <td>1.0</td>\n",
       "      <td>NaN</td>\n",
       "      <td>NaN</td>\n",
       "      <td>NaN</td>\n",
       "      <td>NaN</td>\n",
       "    </tr>\n",
       "    <tr>\n",
       "      <th>1771.0</th>\n",
       "      <td>1.0</td>\n",
       "      <td>NaN</td>\n",
       "      <td>NaN</td>\n",
       "      <td>NaN</td>\n",
       "      <td>NaN</td>\n",
       "    </tr>\n",
       "    <tr>\n",
       "      <th>1930.0</th>\n",
       "      <td>1.0</td>\n",
       "      <td>NaN</td>\n",
       "      <td>NaN</td>\n",
       "      <td>NaN</td>\n",
       "      <td>NaN</td>\n",
       "    </tr>\n",
       "    <tr>\n",
       "      <th>1941.0</th>\n",
       "      <td>1.0</td>\n",
       "      <td>NaN</td>\n",
       "      <td>NaN</td>\n",
       "      <td>NaN</td>\n",
       "      <td>NaN</td>\n",
       "    </tr>\n",
       "  </tbody>\n",
       "</table>\n",
       "</div>"
      ],
      "text/plain": [
       "        abo_bid_2020  abo_bid_2021  abo_pol_2020  abo_pol_2021  aux\n",
       "socio                                                              \n",
       "1475.0           1.0           NaN           NaN           NaN  NaN\n",
       "1630.0           1.0           NaN           NaN           NaN  NaN\n",
       "1771.0           1.0           NaN           NaN           NaN  NaN\n",
       "1930.0           1.0           NaN           NaN           NaN  NaN\n",
       "1941.0           1.0           NaN           NaN           NaN  NaN"
      ]
     },
     "execution_count": 305,
     "metadata": {},
     "output_type": "execute_result"
    }
   ],
   "source": [
    "df_abonos.head()"
   ]
  },
  {
   "cell_type": "code",
   "execution_count": 304,
   "metadata": {},
   "outputs": [
    {
     "data": {
      "text/plain": [
       "Series([], Name: aux, dtype: int64)"
      ]
     },
     "execution_count": 304,
     "metadata": {},
     "output_type": "execute_result"
    }
   ],
   "source": [
    "df_abonos['aux'] = df_abonos['abo_bid_2020']+df_abonos['abo_bid_2021']+df_abonos['abo_pol_2020']+df_abonos['abo_pol_2021']\n",
    "df_abonos['aux'].value_counts()"
   ]
  },
  {
   "cell_type": "code",
   "execution_count": 85,
   "metadata": {},
   "outputs": [],
   "source": [
    "# eventos\n",
    "eve = load_workbook(filename = RAW/'eventos.xlsx')\n",
    "eve_sheets = eve.sheetnames"
   ]
  },
  {
   "cell_type": "code",
   "execution_count": 111,
   "metadata": {},
   "outputs": [
    {
     "name": "stdout",
     "output_type": "stream",
     "text": [
      "['154', '155', '156', '157', '158', '159', '160', '162', '166', '167', '170', '171', '172', '173', '174', '175', '176', '179', '187', '188', '189', '190', '192', '193', '194', '195', '199', '200', '201']\n"
     ]
    }
   ],
   "source": [
    "print(eve_sheets)\n",
    "eve_sheets.remove(['Abonado', 'UNOxSOCIO'])"
   ]
  },
  {
   "cell_type": "code",
   "execution_count": 104,
   "metadata": {},
   "outputs": [],
   "source": [
    "def info_evento(sheetname):\n",
    "    df_eve = pd.read_excel(RAW/'eventos.xlsx', engine='openpyxl', sheet_name=sheetname)\n",
    "    dic_eve = {\n",
    "        \"evento\": df_eve['Evento'][0], \n",
    "        \"fecha\": df_eve['Fecha'][0],\n",
    "        \"socios\": df_eve.loc[df_eve['Tipo'] == 'Socio']['Numero'].unique(),\n",
    "        \"publico\": len(set([str(x) for x in df_eve[['Tipo', 'Numero']].values]))\n",
    "        }\n",
    "    return dic_eve"
   ]
  },
  {
   "cell_type": "code",
   "execution_count": 103,
   "metadata": {},
   "outputs": [
    {
     "data": {
      "text/plain": [
       "{'sheetname': '154',\n",
       " 'evento': '154 - Lanús - 2018-08-19',\n",
       " 'fecha': Timestamp('2018-08-19 18:48:00'),\n",
       " 'socios': array([ 21065,  78406, 105137, ...,  34832,  10406,  46192], dtype=int64),\n",
       " 'publico': 16950}"
      ]
     },
     "execution_count": 103,
     "metadata": {},
     "output_type": "execute_result"
    }
   ],
   "source": [
    "# ejemplo\n",
    "info_evento(eve_sheets[1])"
   ]
  },
  {
   "cell_type": "code",
   "execution_count": 120,
   "metadata": {},
   "outputs": [],
   "source": [
    "eventos = {}\n",
    "for eve in range(len(eve_sheets)):\n",
    "    eventos[eve] = info_evento(eve_sheets[eve])"
   ]
  },
  {
   "cell_type": "code",
   "execution_count": 128,
   "metadata": {},
   "outputs": [
    {
     "name": "stdout",
     "output_type": "stream",
     "text": [
      "29\n"
     ]
    },
    {
     "data": {
      "text/plain": [
       "{'evento': '154 - Lanús - 2018-08-19',\n",
       " 'fecha': Timestamp('2018-08-19 18:48:00'),\n",
       " 'socios': array([ 21065,  78406, 105137, ...,  34832,  10406,  46192], dtype=int64),\n",
       " 'publico': 16950}"
      ]
     },
     "execution_count": 128,
     "metadata": {},
     "output_type": "execute_result"
    }
   ],
   "source": [
    "print(len(eventos))\n",
    "eventos[0]"
   ]
  },
  {
   "cell_type": "code",
   "execution_count": 143,
   "metadata": {},
   "outputs": [],
   "source": [
    "# publico promedio\n",
    "np.mean(np.array([int(eventos[x]['publico']) for x in eventos]))"
   ]
  },
  {
   "cell_type": "code",
   "execution_count": 158,
   "metadata": {},
   "outputs": [
    {
     "name": "stdout",
     "output_type": "stream",
     "text": [
      "11242\n",
      "17344\n"
     ]
    }
   ],
   "source": [
    "lista = list(eventos[0]['socios'])\n",
    "print(len(lista))\n",
    "lista.extend(list(eventos[1]['socios']))\n",
    "print(len(lista))"
   ]
  },
  {
   "cell_type": "code",
   "execution_count": 165,
   "metadata": {},
   "outputs": [
    {
     "name": "stdout",
     "output_type": "stream",
     "text": [
      "336058\n",
      "47585\n"
     ]
    }
   ],
   "source": [
    "# socios totales que asistieron a algun evento\n",
    "socios_eve = []\n",
    "for eve in eventos:\n",
    "    socios_eve.extend(list(eventos[eve]['socios']))\n",
    "print(len(socios_eve))\n",
    "socios_eve = list(set(socios_eve))\n",
    "print(len(socios_eve))"
   ]
  },
  {
   "cell_type": "code",
   "execution_count": 227,
   "metadata": {},
   "outputs": [],
   "source": [
    "socios_eventos = pd.DataFrame({'socio': socios_eve\n",
    "                              ,'eve_2018': np.zeros(len(socios_eve))\n",
    "                              ,'eve_2019': np.zeros(len(socios_eve))\n",
    "                              ,'eve_2020': np.zeros(len(socios_eve))})"
   ]
  },
  {
   "cell_type": "code",
   "execution_count": 223,
   "metadata": {},
   "outputs": [],
   "source": [
    "for evento in eventos:\n",
    "    if eventos[evento]['fecha'].year == 2018:\n",
    "        socios_eventos['eve_2018'][0] += (socios_eventos['socio'][0] in eventos[evento]['socios'])\n",
    "    if eventos[evento]['fecha'].year == 2019:\n",
    "        socios_eventos['eve_2019'][0] += (socios_eventos['socio'][0] in eventos[evento]['socios'])    "
   ]
  },
  {
   "cell_type": "code",
   "execution_count": 224,
   "metadata": {},
   "outputs": [
    {
     "data": {
      "text/html": [
       "<div>\n",
       "<style scoped>\n",
       "    .dataframe tbody tr th:only-of-type {\n",
       "        vertical-align: middle;\n",
       "    }\n",
       "\n",
       "    .dataframe tbody tr th {\n",
       "        vertical-align: top;\n",
       "    }\n",
       "\n",
       "    .dataframe thead th {\n",
       "        text-align: right;\n",
       "    }\n",
       "</style>\n",
       "<table border=\"1\" class=\"dataframe\">\n",
       "  <thead>\n",
       "    <tr style=\"text-align: right;\">\n",
       "      <th></th>\n",
       "      <th>socio</th>\n",
       "      <th>eve_2018</th>\n",
       "      <th>eve_2019</th>\n",
       "      <th>eve_2020</th>\n",
       "    </tr>\n",
       "  </thead>\n",
       "  <tbody>\n",
       "    <tr>\n",
       "      <th>0</th>\n",
       "      <td>258.0</td>\n",
       "      <td>2.0</td>\n",
       "      <td>5.0</td>\n",
       "      <td>0.0</td>\n",
       "    </tr>\n",
       "    <tr>\n",
       "      <th>1</th>\n",
       "      <td>285.0</td>\n",
       "      <td>0.0</td>\n",
       "      <td>0.0</td>\n",
       "      <td>0.0</td>\n",
       "    </tr>\n",
       "    <tr>\n",
       "      <th>2</th>\n",
       "      <td>425.0</td>\n",
       "      <td>0.0</td>\n",
       "      <td>0.0</td>\n",
       "      <td>0.0</td>\n",
       "    </tr>\n",
       "    <tr>\n",
       "      <th>3</th>\n",
       "      <td>431.0</td>\n",
       "      <td>0.0</td>\n",
       "      <td>0.0</td>\n",
       "      <td>0.0</td>\n",
       "    </tr>\n",
       "    <tr>\n",
       "      <th>4</th>\n",
       "      <td>449.0</td>\n",
       "      <td>0.0</td>\n",
       "      <td>0.0</td>\n",
       "      <td>0.0</td>\n",
       "    </tr>\n",
       "  </tbody>\n",
       "</table>\n",
       "</div>"
      ],
      "text/plain": [
       "   socio  eve_2018  eve_2019  eve_2020\n",
       "0  258.0       2.0       5.0       0.0\n",
       "1  285.0       0.0       0.0       0.0\n",
       "2  425.0       0.0       0.0       0.0\n",
       "3  431.0       0.0       0.0       0.0\n",
       "4  449.0       0.0       0.0       0.0"
      ]
     },
     "execution_count": 224,
     "metadata": {},
     "output_type": "execute_result"
    }
   ],
   "source": [
    "socios_eventos.head()"
   ]
  },
  {
   "cell_type": "code",
   "execution_count": 228,
   "metadata": {},
   "outputs": [],
   "source": [
    "# cantidad de partidos asistidos por socio por año\n",
    "for socio in range(len(socios_eventos['socio'])):\n",
    "    for evento in eventos:\n",
    "        if eventos[evento]['fecha'].year == 2018:\n",
    "            socios_eventos['eve_2018'][socio] += (socios_eventos['socio'][socio] in eventos[evento]['socios'])\n",
    "        if eventos[evento]['fecha'].year == 2019:\n",
    "            socios_eventos['eve_2019'][socio] += (socios_eventos['socio'][socio] in eventos[evento]['socios'])  \n",
    "        if eventos[evento]['fecha'].year == 2020:\n",
    "            socios_eventos['eve_2020'][socio] += (socios_eventos['socio'][socio] in eventos[evento]['socios'])"
   ]
  },
  {
   "cell_type": "code",
   "execution_count": 319,
   "metadata": {},
   "outputs": [
    {
     "data": {
      "text/html": [
       "<div>\n",
       "<style scoped>\n",
       "    .dataframe tbody tr th:only-of-type {\n",
       "        vertical-align: middle;\n",
       "    }\n",
       "\n",
       "    .dataframe tbody tr th {\n",
       "        vertical-align: top;\n",
       "    }\n",
       "\n",
       "    .dataframe thead th {\n",
       "        text-align: right;\n",
       "    }\n",
       "</style>\n",
       "<table border=\"1\" class=\"dataframe\">\n",
       "  <thead>\n",
       "    <tr style=\"text-align: right;\">\n",
       "      <th></th>\n",
       "      <th>eve_2018</th>\n",
       "      <th>eve_2019</th>\n",
       "      <th>eve_2020</th>\n",
       "    </tr>\n",
       "    <tr>\n",
       "      <th>socio</th>\n",
       "      <th></th>\n",
       "      <th></th>\n",
       "      <th></th>\n",
       "    </tr>\n",
       "  </thead>\n",
       "  <tbody>\n",
       "    <tr>\n",
       "      <th>258.0</th>\n",
       "      <td>2.0</td>\n",
       "      <td>5.0</td>\n",
       "      <td>0.0</td>\n",
       "    </tr>\n",
       "    <tr>\n",
       "      <th>285.0</th>\n",
       "      <td>1.0</td>\n",
       "      <td>6.0</td>\n",
       "      <td>0.0</td>\n",
       "    </tr>\n",
       "    <tr>\n",
       "      <th>425.0</th>\n",
       "      <td>0.0</td>\n",
       "      <td>0.0</td>\n",
       "      <td>0.0</td>\n",
       "    </tr>\n",
       "    <tr>\n",
       "      <th>431.0</th>\n",
       "      <td>2.0</td>\n",
       "      <td>6.0</td>\n",
       "      <td>0.0</td>\n",
       "    </tr>\n",
       "    <tr>\n",
       "      <th>449.0</th>\n",
       "      <td>4.0</td>\n",
       "      <td>15.0</td>\n",
       "      <td>0.0</td>\n",
       "    </tr>\n",
       "  </tbody>\n",
       "</table>\n",
       "</div>"
      ],
      "text/plain": [
       "       eve_2018  eve_2019  eve_2020\n",
       "socio                              \n",
       "258.0       2.0       5.0       0.0\n",
       "285.0       1.0       6.0       0.0\n",
       "425.0       0.0       0.0       0.0\n",
       "431.0       2.0       6.0       0.0\n",
       "449.0       4.0      15.0       0.0"
      ]
     },
     "execution_count": 319,
     "metadata": {},
     "output_type": "execute_result"
    }
   ],
   "source": [
    "df_eventos = socios_eventos.set_index('socio')\n",
    "df_eventos.head()"
   ]
  },
  {
   "cell_type": "markdown",
   "metadata": {},
   "source": [
    "### Junto las bases"
   ]
  },
  {
   "cell_type": "markdown",
   "metadata": {},
   "source": [
    "- Socios: df_soc\n",
    "- Abonos: df_abo\n",
    "- Eventos: df_eve"
   ]
  },
  {
   "cell_type": "code",
   "execution_count": 237,
   "metadata": {},
   "outputs": [
    {
     "name": "stdout",
     "output_type": "stream",
     "text": [
      "Socio                     int64\n",
      "Nombre                   object\n",
      "Nro. Doc.                object\n",
      "Sexo                     object\n",
      "F. Ingreso       datetime64[ns]\n",
      "Rec/Desc                 object\n",
      "Forma de pago            object\n",
      "Tarjeta                  object\n",
      "Tipo de socio            object\n",
      "Categoria                object\n",
      "Estado                   object\n",
      "UCP              datetime64[ns]\n",
      "dtype: object\n",
      "Socio                float64\n",
      "Abono                float64\n",
      "Apellido y Nombre     object\n",
      "Unnamed: 3           float64\n",
      "UCP                   object\n",
      "Fila                 float64\n",
      "Asiento              float64\n",
      "Sector                object\n",
      "Seccion               object\n",
      "Tarifa                object\n",
      "Vencimiento           object\n",
      "Mail                  object\n",
      "Telefono              object\n",
      "Celular               object\n",
      "Unnamed: 14          float64\n",
      "Original              object\n",
      "Pago                  object\n",
      "dtype: object\n"
     ]
    }
   ],
   "source": [
    "#\n",
    "print(df_soc.dtypes)\n",
    "print(df_abo.dtypes)"
   ]
  }
 ],
 "metadata": {
  "kernelspec": {
   "display_name": "Python 3",
   "language": "python",
   "name": "python3"
  },
  "language_info": {
   "codemirror_mode": {
    "name": "ipython",
    "version": 3
   },
   "file_extension": ".py",
   "mimetype": "text/x-python",
   "name": "python",
   "nbconvert_exporter": "python",
   "pygments_lexer": "ipython3",
   "version": "3.8.2"
  }
 },
 "nbformat": 4,
 "nbformat_minor": 4
}
