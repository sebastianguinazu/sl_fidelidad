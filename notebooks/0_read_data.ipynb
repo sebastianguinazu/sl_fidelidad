{
 "cells": [
  {
   "cell_type": "markdown",
   "metadata": {},
   "source": [
    "# SL Fidelidad - 01_Load Data"
   ]
  },
  {
   "cell_type": "markdown",
   "metadata": {},
   "source": [
    "Fuentes disponibles:\n",
    "- caracteristicas\n",
    "- abonos\n",
    "- eventos"
   ]
  },
  {
   "cell_type": "code",
   "execution_count": 5,
   "metadata": {},
   "outputs": [
    {
     "name": "stdout",
     "output_type": "stream",
     "text": [
      "/home/sgubuntu2004/.virtualenvs/slfidelidad-streamlit_app/bin/python\r\n"
     ]
    }
   ],
   "source": [
    "# !pip3 install openpyxl\n",
    "# !pip3 install xlrd\n",
    "!which python"
   ]
  },
  {
   "cell_type": "code",
   "execution_count": 1,
   "metadata": {},
   "outputs": [],
   "source": [
    "import pandas as pd\n",
    "import numpy as np\n",
    "from pathlib import Path\n",
    "import pickle\n",
    "\n",
    "import xlrd\n",
    "from openpyxl import load_workbook\n",
    "\n",
    "from helper_functions import str_rem_empty\n",
    "from helper_functions import info_evento\n",
    "\n",
    "from functools import reduce"
   ]
  },
  {
   "cell_type": "code",
   "execution_count": 2,
   "metadata": {},
   "outputs": [],
   "source": [
    "# seteo carpetas\n",
    "BASE = Path().absolute().parent\n",
    "RAW = Path(BASE/'raw')\n",
    "DATA = Path(BASE/'data')"
   ]
  },
  {
   "cell_type": "markdown",
   "metadata": {},
   "source": [
    "## Carga de datos y preparacion de tablas"
   ]
  },
  {
   "cell_type": "markdown",
   "metadata": {},
   "source": [
    "#### Tablon de socios"
   ]
  },
  {
   "cell_type": "code",
   "execution_count": 26,
   "metadata": {},
   "outputs": [],
   "source": [
    "# caracteristicas\n",
    "df_soc = pd.read_excel(RAW/'padronsocios_202001.xlsx', engine='openpyxl')\n",
    "# df_soc.head()"
   ]
  },
  {
   "cell_type": "code",
   "execution_count": 25,
   "metadata": {},
   "outputs": [],
   "source": [
    "# df_soc.columns"
   ]
  },
  {
   "cell_type": "code",
   "execution_count": 19,
   "metadata": {},
   "outputs": [],
   "source": [
    "# df_soc['Provincia'].value_counts()"
   ]
  },
  {
   "cell_type": "code",
   "execution_count": 7,
   "metadata": {},
   "outputs": [],
   "source": [
    "# df_soc['Tipo de socio'].value_counts()"
   ]
  },
  {
   "cell_type": "code",
   "execution_count": 27,
   "metadata": {},
   "outputs": [],
   "source": [
    "# tipo de socio\n",
    "df_soc['tipo_socio'] = 'SIMPLE'\n",
    "df_soc.loc[(df_soc['Tipo de socio'] == '3 - INTERIOR'), 'tipo_socio'] = 'INTERIOR'\n",
    "df_soc.loc[(df_soc['Tipo de socio'] == '4 - EXTERIOR'), 'tipo_socio'] = 'EXTERIOR'\n",
    "df_soc.loc[(df_soc['Tipo de socio'] == '5 - PATRIMONIAL'), 'tipo_socio'] = 'PATRIMONIAL'\n",
    "df_soc.loc[(df_soc['Tipo de socio'] == '2 - PLENO'), 'tipo_socio'] = 'PLENO'\n",
    "df_soc.loc[(df_soc['Tipo de socio'] == 'VITALICIO'), 'tipo_socio'] = 'VITALICIO'\n",
    "# df_soc['tipo_socio'].value_counts()"
   ]
  },
  {
   "cell_type": "code",
   "execution_count": 28,
   "metadata": {},
   "outputs": [],
   "source": [
    "# forma de pago\n",
    "# print(df_soc['Forma de pago'].value_counts())\n",
    "df_soc.loc[(df_soc['Forma de pago'] == 'Débito Automático'), 'forma_pago'] = 'DEBITO'\n",
    "df_soc.loc[(df_soc['Forma de pago'] == 'Efectivo'), 'forma_pago'] = 'EFECTIVO'"
   ]
  },
  {
   "cell_type": "code",
   "execution_count": 29,
   "metadata": {},
   "outputs": [],
   "source": [
    "# refundador\n",
    "df_soc['refunda'] = 0\n",
    "df_soc.loc[(-df_soc['Refun'].isna()), 'refunda'] = 1"
   ]
  },
  {
   "cell_type": "code",
   "execution_count": 34,
   "metadata": {},
   "outputs": [],
   "source": [
    "# renombro\n",
    "df_soc = df_soc.rename(columns={'F Ingreso': 'fecha_ingreso', 'Fecha Nac': 'fecha_nac'})"
   ]
  },
  {
   "cell_type": "code",
   "execution_count": 35,
   "metadata": {},
   "outputs": [],
   "source": [
    "df_socios = df_soc[['Socio', 'Sexo', 'tipo_socio', 'forma_pago', 'fecha_ingreso', \\\n",
    "                   'refunda', 'fecha_nac']]\n",
    "df_socios.columns = [x.lower() for x in df_socios.columns]"
   ]
  },
  {
   "cell_type": "code",
   "execution_count": 36,
   "metadata": {},
   "outputs": [],
   "source": [
    "# index a string\n",
    "df_socios = df_socios.set_index('socio')\n",
    "# df_socios.head()\n",
    "df_socios.index = df_socios.index.map(str)"
   ]
  },
  {
   "cell_type": "markdown",
   "metadata": {},
   "source": [
    "#### Abonados"
   ]
  },
  {
   "cell_type": "code",
   "execution_count": 96,
   "metadata": {},
   "outputs": [],
   "source": [
    "# abonos\n",
    "df_abo = pd.read_csv(RAW/'abonos_historico.csv', sep=';', encoding = \"ISO-8859-1\")\n",
    "# df_abo.head()"
   ]
  },
  {
   "cell_type": "code",
   "execution_count": 97,
   "metadata": {},
   "outputs": [],
   "source": [
    "# df_abo.shape"
   ]
  },
  {
   "cell_type": "code",
   "execution_count": 98,
   "metadata": {},
   "outputs": [],
   "source": [
    "# año del abono\n",
    "df_abo['abo_year'] = df_abo['Vencimiento'].str.slice(start = -4)\n",
    "# df_abo['abo_year'].value_counts()"
   ]
  },
  {
   "cell_type": "code",
   "execution_count": 99,
   "metadata": {},
   "outputs": [],
   "source": [
    "# cambio de nombre de vars\n",
    "df_abo = df_abo.rename(columns={'Socio': 'socio', 'Apellido y Nombre': 'nombre'})"
   ]
  },
  {
   "cell_type": "code",
   "execution_count": 127,
   "metadata": {},
   "outputs": [],
   "source": [
    "# elimino espacios vacios en ultimo caracter de nombre\n",
    "df_abo['nombre'] = [str_rem_empty(x) for x in list(df_abo['nombre'])]"
   ]
  },
  {
   "cell_type": "code",
   "execution_count": 128,
   "metadata": {},
   "outputs": [],
   "source": [
    "# pivoteo socio y nombre\n",
    "socio_nombre = df_abo.loc[-df_abo['socio'].isna(), ['socio', 'nombre']]\n",
    "\n",
    "# elimino la columna socio con NaN\n",
    "df_abo = df_abo.drop(['socio'], axis=1)"
   ]
  },
  {
   "cell_type": "code",
   "execution_count": 131,
   "metadata": {},
   "outputs": [],
   "source": [
    "# merge\n",
    "df_abo = pd.merge(df_abo, socio_nombre, how='left', on='nombre')"
   ]
  },
  {
   "cell_type": "code",
   "execution_count": 132,
   "metadata": {},
   "outputs": [],
   "source": [
    "# filtro abonos que no importan para el analisis\n",
    "df_abo = df_abo[df_abo['Sector']!='ESTACIONAMIENTO']\n",
    "# df_abo['Sector'].value_counts()"
   ]
  },
  {
   "cell_type": "code",
   "execution_count": 134,
   "metadata": {},
   "outputs": [
    {
     "name": "stdout",
     "output_type": "stream",
     "text": [
      "749\n"
     ]
    }
   ],
   "source": [
    "# chequeo nulls\n",
    "print(sum(df_abo['socio'].isna()))\n",
    "# df_abo.loc[df_abo['socio'].isna(), 'nombre']"
   ]
  },
  {
   "cell_type": "code",
   "execution_count": 136,
   "metadata": {},
   "outputs": [],
   "source": [
    "# elimino los nulls que quedaron y casteo a str\n",
    "df_abo = df_abo.loc[-df_abo['socio'].isna()]\n",
    "df_abo['socio'] = df_abo['socio'].astype(int).astype(str)"
   ]
  },
  {
   "cell_type": "code",
   "execution_count": 139,
   "metadata": {},
   "outputs": [],
   "source": [
    "# df_abo.shape"
   ]
  },
  {
   "cell_type": "code",
   "execution_count": 28,
   "metadata": {},
   "outputs": [],
   "source": [
    "# len(df_abo['socio'].unique())"
   ]
  },
  {
   "cell_type": "code",
   "execution_count": 159,
   "metadata": {},
   "outputs": [],
   "source": [
    "# genero dataframe con variables por abono\n",
    "dfs = [\n",
    "    # bideg 2020\n",
    "    pd.DataFrame(\n",
    "        {'socio':df_abo.loc[(df_abo['abo_year'] == '2020') & (df_abo['Sector'].isin(['PLATEA SUR', 'PLATEA NORTE']))\\\n",
    "                              , 'socio'].unique()\n",
    "         ,'abo_bid_2020':1}),\n",
    "    # bideg 2021\n",
    "    pd.DataFrame(\n",
    "        {'socio':df_abo.loc[(df_abo['abo_year'] == '2021') & (df_abo['Sector'].isin(['PLATEA SUR', 'PLATEA NORTE']))\\\n",
    "                              , 'socio'].unique()\n",
    "         ,'abo_bid_2021':1}),\n",
    "    # poli 2020\n",
    "    pd.DataFrame(\n",
    "        {'socio':df_abo.loc[(df_abo['abo_year'] == '2020') & (df_abo['Sector']=='POLIDEPORTIVO'), 'socio'].unique()\n",
    "         ,'abo_pol_2020':1}),\n",
    "    # poli 2021\n",
    "    pd.DataFrame(\n",
    "        {'socio':df_abo.loc[(df_abo['abo_year'] == '2021') & (df_abo['Sector']=='POLIDEPORTIVO'), 'socio'].unique()\n",
    "         ,'abo_pol_2021':1})\n",
    "    ]\n",
    "df_abonos = reduce(lambda left,right: pd.merge(left,right,on=['socio'],\n",
    "                                            how='outer'), dfs)"
   ]
  },
  {
   "cell_type": "code",
   "execution_count": 166,
   "metadata": {},
   "outputs": [],
   "source": [
    "# df_abonos.shape\n",
    "# df_abonos.head()"
   ]
  },
  {
   "cell_type": "code",
   "execution_count": 164,
   "metadata": {},
   "outputs": [],
   "source": [
    "# df_abonos.sum(axis=1).value_counts()"
   ]
  },
  {
   "cell_type": "code",
   "execution_count": 160,
   "metadata": {},
   "outputs": [
    {
     "data": {
      "text/plain": [
       "Index(['socio', 'abo_bid_2020', 'abo_bid_2021', 'abo_pol_2020',\n",
       "       'abo_pol_2021'],\n",
       "      dtype='object')"
      ]
     },
     "execution_count": 160,
     "metadata": {},
     "output_type": "execute_result"
    }
   ],
   "source": [
    "df_abonos.columns"
   ]
  },
  {
   "cell_type": "code",
   "execution_count": 169,
   "metadata": {},
   "outputs": [],
   "source": [
    "df_abonos = df_abonos.set_index('socio')"
   ]
  },
  {
   "cell_type": "markdown",
   "metadata": {},
   "source": [
    "#### Eventos"
   ]
  },
  {
   "cell_type": "code",
   "execution_count": 40,
   "metadata": {},
   "outputs": [],
   "source": [
    "# eventos\n",
    "eve = load_workbook(filename = RAW/'eventos.xlsx')\n",
    "eve_sheets = eve.sheetnames"
   ]
  },
  {
   "cell_type": "code",
   "execution_count": 41,
   "metadata": {},
   "outputs": [
    {
     "name": "stdout",
     "output_type": "stream",
     "text": [
      "['Abonado', '154', '155', '156', '157', '158', '159', '160', '162', '166', '167', '170', '171', '172', '173', '174', '175', '176', '179', '187', '188', '189', '190', '192', '193', '194', '195', '199', '200', '201', 'UNOxSOCIO']\n"
     ]
    }
   ],
   "source": [
    "print(eve_sheets)\n",
    "eve_sheets.remove('Abonado')\n",
    "eve_sheets.remove('UNOxSOCIO')"
   ]
  },
  {
   "cell_type": "code",
   "execution_count": 32,
   "metadata": {},
   "outputs": [],
   "source": [
    "# ejemplo\n",
    "# info_evento(eve_sheets[0])"
   ]
  },
  {
   "cell_type": "code",
   "execution_count": 43,
   "metadata": {},
   "outputs": [],
   "source": [
    "# corro la funcion para todas las solapas y almaceno los resultados en un diccionario\n",
    "eventos = {}\n",
    "for eve in range(len(eve_sheets)):\n",
    "    eventos[eve] = info_evento(eve_sheets[eve])"
   ]
  },
  {
   "cell_type": "code",
   "execution_count": 45,
   "metadata": {},
   "outputs": [],
   "source": [
    "# print(len(eventos))\n",
    "# print(type(eventos[0]))\n",
    "# print(eventos[0].keys())"
   ]
  },
  {
   "cell_type": "code",
   "execution_count": 143,
   "metadata": {},
   "outputs": [],
   "source": [
    "# publico promedio\n",
    "np.mean(np.array([int(eventos[x]['publico']) for x in eventos]))"
   ]
  },
  {
   "cell_type": "code",
   "execution_count": 46,
   "metadata": {},
   "outputs": [],
   "source": [
    "# socios totales que asistieron a algun evento\n",
    "socios_eve = []\n",
    "for eve in eventos:\n",
    "    socios_eve.extend(list(eventos[eve]['socios']))\n",
    "# print(len(socios_eve))\n",
    "socios_eve = list(set(socios_eve))\n",
    "# print(len(socios_eve))"
   ]
  },
  {
   "cell_type": "code",
   "execution_count": 47,
   "metadata": {},
   "outputs": [],
   "source": [
    "# genero un data frame con la # de eventos por socio por año\n",
    "socios_eventos = pd.DataFrame({'socio': socios_eve\n",
    "                              ,'eve_2018': np.zeros(len(socios_eve))\n",
    "                              ,'eve_2019': np.zeros(len(socios_eve))\n",
    "                              ,'eve_2020': np.zeros(len(socios_eve))})"
   ]
  },
  {
   "cell_type": "code",
   "execution_count": 48,
   "metadata": {},
   "outputs": [],
   "source": [
    "# cantidad de partidos asistidos por socio por año\n",
    "for socio in range(len(socios_eventos['socio'])):\n",
    "    for evento in eventos:\n",
    "        if eventos[evento]['fecha'].year == 2018:\n",
    "            socios_eventos['eve_2018'][socio] += (socios_eventos['socio'][socio] in eventos[evento]['socios'])\n",
    "        if eventos[evento]['fecha'].year == 2019:\n",
    "            socios_eventos['eve_2019'][socio] += (socios_eventos['socio'][socio] in eventos[evento]['socios'])  \n",
    "        if eventos[evento]['fecha'].year == 2020:\n",
    "            socios_eventos['eve_2020'][socio] += (socios_eventos['socio'][socio] in eventos[evento]['socios'])"
   ]
  },
  {
   "cell_type": "code",
   "execution_count": 51,
   "metadata": {},
   "outputs": [],
   "source": [
    "socios_eventos['socio'] = socios_eventos['socio'].astype(int).astype(str)\n",
    "df_eventos = socios_eventos.set_index('socio')\n",
    "# df_eventos.head()"
   ]
  },
  {
   "cell_type": "markdown",
   "metadata": {},
   "source": [
    "## Salvo las bases"
   ]
  },
  {
   "cell_type": "code",
   "execution_count": 53,
   "metadata": {},
   "outputs": [],
   "source": [
    "# socios\n",
    "pickle.dump( df_socios, open( DATA/\"df_socios.p\", \"wb\" ) )\n",
    "# abonos\n",
    "pickle.dump( df_abonos, open( DATA/\"df_abonos.p\", \"wb\" ) )\n",
    "# eventos\n",
    "pickle.dump( df_eventos, open( DATA/\"df_eventos.p\", \"wb\" ) )"
   ]
  }
 ],
 "metadata": {
  "kernelspec": {
   "display_name": "Python 3",
   "language": "python",
   "name": "python3"
  },
  "language_info": {
   "codemirror_mode": {
    "name": "ipython",
    "version": 3
   },
   "file_extension": ".py",
   "mimetype": "text/x-python",
   "name": "python",
   "nbconvert_exporter": "python",
   "pygments_lexer": "ipython3",
   "version": "3.8.5"
  }
 },
 "nbformat": 4,
 "nbformat_minor": 4
}
