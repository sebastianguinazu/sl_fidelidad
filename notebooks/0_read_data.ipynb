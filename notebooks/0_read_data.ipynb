{
 "cells": [
  {
   "cell_type": "markdown",
   "metadata": {},
   "source": [
    "# SL Fidelidad - 01_Load Data"
   ]
  },
  {
   "cell_type": "markdown",
   "metadata": {},
   "source": [
    "Fuentes disponibles:\n",
    "- caracteristicas\n",
    "- abonos\n",
    "- eventos\n",
    "- aspo"
   ]
  },
  {
   "cell_type": "code",
   "execution_count": null,
   "metadata": {},
   "outputs": [],
   "source": [
    "# !pip3 install openpyxl\n",
    "# !pip3 install xlrd\n",
    "!which python"
   ]
  },
  {
   "cell_type": "code",
   "execution_count": 1,
   "metadata": {},
   "outputs": [],
   "source": [
    "import pandas as pd\n",
    "import numpy as np\n",
    "from pathlib import Path\n",
    "\n",
    "import pickle\n",
    "\n",
    "import xlrd\n",
    "from openpyxl import load_workbook\n",
    "\n",
    "from helper_functions import str_rem_empty\n",
    "from helper_functions import info_evento\n",
    "\n",
    "from functools import reduce"
   ]
  },
  {
   "cell_type": "code",
   "execution_count": 2,
   "metadata": {},
   "outputs": [],
   "source": [
    "# seteo carpetas\n",
    "BASE = Path().absolute().parent\n",
    "RAW = Path(BASE/'raw')\n",
    "DATA = Path(BASE/'data')"
   ]
  },
  {
   "cell_type": "markdown",
   "metadata": {},
   "source": [
    "## Carga de datos y preparacion de tablas"
   ]
  },
  {
   "cell_type": "markdown",
   "metadata": {},
   "source": [
    "#### Tablon de socios"
   ]
  },
  {
   "cell_type": "code",
   "execution_count": 3,
   "metadata": {},
   "outputs": [
    {
     "data": {
      "text/html": [
       "<div>\n",
       "<style scoped>\n",
       "    .dataframe tbody tr th:only-of-type {\n",
       "        vertical-align: middle;\n",
       "    }\n",
       "\n",
       "    .dataframe tbody tr th {\n",
       "        vertical-align: top;\n",
       "    }\n",
       "\n",
       "    .dataframe thead th {\n",
       "        text-align: right;\n",
       "    }\n",
       "</style>\n",
       "<table border=\"1\" class=\"dataframe\">\n",
       "  <thead>\n",
       "    <tr style=\"text-align: right;\">\n",
       "      <th></th>\n",
       "      <th>Nro soc</th>\n",
       "      <th>Nombre</th>\n",
       "      <th>Activo</th>\n",
       "      <th>Direcci�n</th>\n",
       "      <th>CP</th>\n",
       "      <th>Localidad</th>\n",
       "      <th>Provincia</th>\n",
       "      <th>Tipo</th>\n",
       "      <th>Lista de Precio</th>\n",
       "      <th>Descripcion</th>\n",
       "      <th>...</th>\n",
       "      <th>Fecha Nac.</th>\n",
       "      <th>Alta</th>\n",
       "      <th>Ult. Cuota Paga</th>\n",
       "      <th>Motivo de Baja</th>\n",
       "      <th>Sexo</th>\n",
       "      <th>Relaci�n</th>\n",
       "      <th>Observaciones</th>\n",
       "      <th>CAT</th>\n",
       "      <th>id_tarjeta</th>\n",
       "      <th>Refu</th>\n",
       "    </tr>\n",
       "  </thead>\n",
       "  <tbody>\n",
       "    <tr>\n",
       "      <th>0</th>\n",
       "      <td>1</td>\n",
       "      <td>COLOM MIGUEL</td>\n",
       "      <td>1</td>\n",
       "      <td>BARCO CENTENERA DEL 178 PISO 5 DPTO. B</td>\n",
       "      <td>1424</td>\n",
       "      <td>CAPITAL FEDERAL</td>\n",
       "      <td>CAPITAL FEDERAL</td>\n",
       "      <td>VITALICIO</td>\n",
       "      <td>141</td>\n",
       "      <td>PRECIO ESPECIAL. CATEG: VITALICIO</td>\n",
       "      <td>...</td>\n",
       "      <td>1/1/1950</td>\n",
       "      <td>27/6/1952</td>\n",
       "      <td>1/2/2021</td>\n",
       "      <td>NaN</td>\n",
       "      <td>M</td>\n",
       "      <td>RESPONSABLE DE PAGO</td>\n",
       "      <td>NaN</td>\n",
       "      <td>VITALICIO</td>\n",
       "      <td>0.0</td>\n",
       "      <td>NaN</td>\n",
       "    </tr>\n",
       "    <tr>\n",
       "      <th>1</th>\n",
       "      <td>10</td>\n",
       "      <td>DEFINA RAFAEL</td>\n",
       "      <td>1</td>\n",
       "      <td>RIVERA PEDRO IGNACIO DR. 4670</td>\n",
       "      <td>1431</td>\n",
       "      <td>CAPITAL FEDERAL</td>\n",
       "      <td>CAPITAL FEDERAL</td>\n",
       "      <td>VITALICIO</td>\n",
       "      <td>141</td>\n",
       "      <td>PRECIO ESPECIAL. CATEG: VITALICIO</td>\n",
       "      <td>...</td>\n",
       "      <td>1/1/1900</td>\n",
       "      <td>16/7/1954</td>\n",
       "      <td>1/2/2021</td>\n",
       "      <td>NaN</td>\n",
       "      <td>M</td>\n",
       "      <td>RESPONSABLE DE PAGO</td>\n",
       "      <td>NaN</td>\n",
       "      <td>VITALICIO</td>\n",
       "      <td>0.0</td>\n",
       "      <td>NaN</td>\n",
       "    </tr>\n",
       "    <tr>\n",
       "      <th>2</th>\n",
       "      <td>100</td>\n",
       "      <td>DETTANO ALFREDO</td>\n",
       "      <td>1</td>\n",
       "      <td>TREINTA Y TRES ORIENTALES 728 PISO 1� DPTO. A</td>\n",
       "      <td>1236</td>\n",
       "      <td>CAPITAL FEDERAL</td>\n",
       "      <td>CAPITAL FEDERAL</td>\n",
       "      <td>VITALICIO</td>\n",
       "      <td>141</td>\n",
       "      <td>PRECIO ESPECIAL. CATEG: VITALICIO</td>\n",
       "      <td>...</td>\n",
       "      <td>14/8/1914</td>\n",
       "      <td>16/5/1963</td>\n",
       "      <td>1/2/2021</td>\n",
       "      <td>NaN</td>\n",
       "      <td>M</td>\n",
       "      <td>RESPONSABLE DE PAGO</td>\n",
       "      <td>NaN</td>\n",
       "      <td>VITALICIO</td>\n",
       "      <td>0.0</td>\n",
       "      <td>NaN</td>\n",
       "    </tr>\n",
       "    <tr>\n",
       "      <th>3</th>\n",
       "      <td>1000</td>\n",
       "      <td>GARCIA CARLOS SIMON</td>\n",
       "      <td>1</td>\n",
       "      <td>DRUMOND 2292</td>\n",
       "      <td>1437</td>\n",
       "      <td>CAPITAL FEDERAL</td>\n",
       "      <td>CAPITAL FEDERAL</td>\n",
       "      <td>VITALICIO</td>\n",
       "      <td>141</td>\n",
       "      <td>PRECIO ESPECIAL. CATEG: VITALICIO</td>\n",
       "      <td>...</td>\n",
       "      <td>25/6/1925</td>\n",
       "      <td>26/6/1975</td>\n",
       "      <td>1/2/2021</td>\n",
       "      <td>NaN</td>\n",
       "      <td>M</td>\n",
       "      <td>RESPONSABLE DE PAGO</td>\n",
       "      <td>NaN</td>\n",
       "      <td>VITALICIO</td>\n",
       "      <td>0.0</td>\n",
       "      <td>NaN</td>\n",
       "    </tr>\n",
       "    <tr>\n",
       "      <th>4</th>\n",
       "      <td>10001</td>\n",
       "      <td>QUICI MARTA BEATRIZ</td>\n",
       "      <td>1</td>\n",
       "      <td>GREGORIO POMAR 4152 PISO 2 DPTO. B</td>\n",
       "      <td>1437</td>\n",
       "      <td>CAPITAL FEDERAL</td>\n",
       "      <td>BOEDO</td>\n",
       "      <td>ACTIVA PLENA</td>\n",
       "      <td>116</td>\n",
       "      <td>PRECIO ESPECIAL. CATEG: ACTIVA PLENA</td>\n",
       "      <td>...</td>\n",
       "      <td>19/8/1959</td>\n",
       "      <td>16/12/2003</td>\n",
       "      <td>1/2/2021</td>\n",
       "      <td>NaN</td>\n",
       "      <td>F</td>\n",
       "      <td>RESPONSABLE DE PAGO</td>\n",
       "      <td>NaN</td>\n",
       "      <td>PLENO</td>\n",
       "      <td>5.0</td>\n",
       "      <td>NaN</td>\n",
       "    </tr>\n",
       "  </tbody>\n",
       "</table>\n",
       "<p>5 rows × 22 columns</p>\n",
       "</div>"
      ],
      "text/plain": [
       "   Nro soc               Nombre  Activo  \\\n",
       "0        1         COLOM MIGUEL       1   \n",
       "1       10        DEFINA RAFAEL       1   \n",
       "2      100      DETTANO ALFREDO       1   \n",
       "3     1000  GARCIA CARLOS SIMON       1   \n",
       "4    10001  QUICI MARTA BEATRIZ       1   \n",
       "\n",
       "                                       Direcci�n    CP        Localidad  \\\n",
       "0         BARCO CENTENERA DEL 178 PISO 5 DPTO. B  1424  CAPITAL FEDERAL   \n",
       "1                  RIVERA PEDRO IGNACIO DR. 4670  1431  CAPITAL FEDERAL   \n",
       "2  TREINTA Y TRES ORIENTALES 728 PISO 1� DPTO. A  1236  CAPITAL FEDERAL   \n",
       "3                                   DRUMOND 2292  1437  CAPITAL FEDERAL   \n",
       "4             GREGORIO POMAR 4152 PISO 2 DPTO. B  1437  CAPITAL FEDERAL   \n",
       "\n",
       "         Provincia          Tipo  Lista de Precio  \\\n",
       "0  CAPITAL FEDERAL     VITALICIO              141   \n",
       "1  CAPITAL FEDERAL     VITALICIO              141   \n",
       "2  CAPITAL FEDERAL     VITALICIO              141   \n",
       "3  CAPITAL FEDERAL     VITALICIO              141   \n",
       "4            BOEDO  ACTIVA PLENA              116   \n",
       "\n",
       "                            Descripcion  ... Fecha Nac.        Alta  \\\n",
       "0     PRECIO ESPECIAL. CATEG: VITALICIO  ...   1/1/1950   27/6/1952   \n",
       "1     PRECIO ESPECIAL. CATEG: VITALICIO  ...   1/1/1900   16/7/1954   \n",
       "2     PRECIO ESPECIAL. CATEG: VITALICIO  ...  14/8/1914   16/5/1963   \n",
       "3     PRECIO ESPECIAL. CATEG: VITALICIO  ...  25/6/1925   26/6/1975   \n",
       "4  PRECIO ESPECIAL. CATEG: ACTIVA PLENA  ...  19/8/1959  16/12/2003   \n",
       "\n",
       "  Ult. Cuota Paga Motivo de Baja Sexo             Relaci�n Observaciones  \\\n",
       "0        1/2/2021            NaN    M  RESPONSABLE DE PAGO           NaN   \n",
       "1        1/2/2021            NaN    M  RESPONSABLE DE PAGO           NaN   \n",
       "2        1/2/2021            NaN    M  RESPONSABLE DE PAGO           NaN   \n",
       "3        1/2/2021            NaN    M  RESPONSABLE DE PAGO           NaN   \n",
       "4        1/2/2021            NaN    F  RESPONSABLE DE PAGO           NaN   \n",
       "\n",
       "         CAT id_tarjeta Refu  \n",
       "0  VITALICIO        0.0  NaN  \n",
       "1  VITALICIO        0.0  NaN  \n",
       "2  VITALICIO        0.0  NaN  \n",
       "3  VITALICIO        0.0  NaN  \n",
       "4      PLENO        5.0  NaN  \n",
       "\n",
       "[5 rows x 22 columns]"
      ]
     },
     "execution_count": 3,
     "metadata": {},
     "output_type": "execute_result"
    }
   ],
   "source": [
    "# caracteristicas\n",
    "df_soc = pd.read_csv(RAW/'padronsocios_202101.csv', sep=';')\n",
    "df_soc.head()"
   ]
  },
  {
   "cell_type": "code",
   "execution_count": null,
   "metadata": {},
   "outputs": [],
   "source": [
    "df_soc.shape"
   ]
  },
  {
   "cell_type": "code",
   "execution_count": null,
   "metadata": {},
   "outputs": [],
   "source": [
    "df_soc.columns"
   ]
  },
  {
   "cell_type": "code",
   "execution_count": null,
   "metadata": {},
   "outputs": [],
   "source": [
    "df_soc['Provincia'].value_counts()"
   ]
  },
  {
   "cell_type": "code",
   "execution_count": null,
   "metadata": {},
   "outputs": [],
   "source": [
    "df_soc['CAT'].value_counts()"
   ]
  },
  {
   "cell_type": "code",
   "execution_count": 4,
   "metadata": {
    "scrolled": true
   },
   "outputs": [
    {
     "data": {
      "text/plain": [
       "SIMPLE         33684\n",
       "INTERIOR        9394\n",
       "PLENO           9173\n",
       "VITALICIO       4093\n",
       "PATRIMONIAL      718\n",
       "EXTERIOR         352\n",
       "Name: tipo_socio, dtype: int64"
      ]
     },
     "execution_count": 4,
     "metadata": {},
     "output_type": "execute_result"
    }
   ],
   "source": [
    "# tipo de socio\n",
    "df_soc['tipo_socio'] = 'SIMPLE'\n",
    "df_soc.loc[(df_soc['CAT'] == 'INTERIOR'), 'tipo_socio'] = 'INTERIOR'\n",
    "df_soc.loc[(df_soc['CAT'] == 'EXTERIOR'), 'tipo_socio'] = 'EXTERIOR'\n",
    "df_soc.loc[(df_soc['CAT'] == 'PATRIM'), 'tipo_socio'] = 'PATRIMONIAL'\n",
    "df_soc.loc[(df_soc['CAT'] == 'PLENO'), 'tipo_socio'] = 'PLENO'\n",
    "df_soc.loc[(df_soc['CAT'] == 'VITALICIO'), 'tipo_socio'] = 'VITALICIO'\n",
    "df_soc['tipo_socio'].value_counts()"
   ]
  },
  {
   "cell_type": "code",
   "execution_count": 5,
   "metadata": {},
   "outputs": [
    {
     "data": {
      "text/plain": [
       "5.0     29261\n",
       "0.0     12686\n",
       "6.0      5831\n",
       "4.0      5218\n",
       "1.0      2503\n",
       "2.0       826\n",
       "17.0      185\n",
       "8.0       104\n",
       "Name: id_tarjeta, dtype: int64"
      ]
     },
     "execution_count": 5,
     "metadata": {},
     "output_type": "execute_result"
    }
   ],
   "source": [
    "# forma de pago\n",
    "df_soc['id_tarjeta'].value_counts()"
   ]
  },
  {
   "cell_type": "code",
   "execution_count": 6,
   "metadata": {},
   "outputs": [
    {
     "data": {
      "text/plain": [
       "DEBITO      44728\n",
       "EFECTIVO    12686\n",
       "Name: forma_pago, dtype: int64"
      ]
     },
     "execution_count": 6,
     "metadata": {},
     "output_type": "execute_result"
    }
   ],
   "source": [
    "df_soc.loc[(df_soc['id_tarjeta'] != 0), 'forma_pago'] = 'DEBITO'\n",
    "df_soc.loc[(df_soc['id_tarjeta'] == 0), 'forma_pago'] = 'EFECTIVO'\n",
    "df_soc['forma_pago'].value_counts()"
   ]
  },
  {
   "cell_type": "code",
   "execution_count": 7,
   "metadata": {},
   "outputs": [
    {
     "data": {
      "text/plain": [
       "895.0      4\n",
       "21150.0    3\n",
       "23117.0    3\n",
       "8603.0     2\n",
       "26909.0    2\n",
       "          ..\n",
       "24264.0    1\n",
       "13192.0    1\n",
       "24597.0    1\n",
       "24112.0    1\n",
       "2150.0     1\n",
       "Name: Refu, Length: 14281, dtype: int64"
      ]
     },
     "execution_count": 7,
     "metadata": {},
     "output_type": "execute_result"
    }
   ],
   "source": [
    "# refundador\n",
    "df_soc['Refu'].value_counts()"
   ]
  },
  {
   "cell_type": "code",
   "execution_count": 8,
   "metadata": {},
   "outputs": [
    {
     "data": {
      "text/plain": [
       "0    43073\n",
       "1    14341\n",
       "Name: refunda, dtype: int64"
      ]
     },
     "execution_count": 8,
     "metadata": {},
     "output_type": "execute_result"
    }
   ],
   "source": [
    "df_soc['refunda'] = 0\n",
    "df_soc.loc[(-df_soc['Refu'].isna()), 'refunda'] = 1\n",
    "df_soc['refunda'].value_counts()"
   ]
  },
  {
   "cell_type": "code",
   "execution_count": 9,
   "metadata": {},
   "outputs": [
    {
     "data": {
      "text/plain": [
       "1/2/2021     34496\n",
       "1/1/2021     15487\n",
       "1/12/2020     4063\n",
       "1/11/2020     1875\n",
       "1/10/2020      910\n",
       "1/9/2020       555\n",
       "1/3/2021        15\n",
       "1/6/2021         4\n",
       "1/4/2021         3\n",
       "1/12/2021        2\n",
       "1/1/2022         1\n",
       "1/5/2021         1\n",
       "21/3/2021        1\n",
       "1/10/2021        1\n",
       "Name: Ult. Cuota Paga, dtype: int64"
      ]
     },
     "execution_count": 9,
     "metadata": {},
     "output_type": "execute_result"
    }
   ],
   "source": [
    "# aspo\n",
    "df_soc['Ult. Cuota Paga'].value_counts()"
   ]
  },
  {
   "cell_type": "code",
   "execution_count": 10,
   "metadata": {},
   "outputs": [
    {
     "data": {
      "text/plain": [
       "1    50010\n",
       "0     7404\n",
       "Name: aspo_dia, dtype: int64"
      ]
     },
     "execution_count": 10,
     "metadata": {},
     "output_type": "execute_result"
    }
   ],
   "source": [
    "df_soc['aspo_dia'] = 0\n",
    "df_soc.loc[df_soc['Ult. Cuota Paga'].str.slice(start=-4)=='2021', 'aspo_dia'] = 1\n",
    "df_soc['aspo_dia'].value_counts()"
   ]
  },
  {
   "cell_type": "code",
   "execution_count": 11,
   "metadata": {},
   "outputs": [],
   "source": [
    "# renombro\n",
    "df_soc = df_soc.rename(columns={'Alta': 'fecha_ingreso', 'Fecha Nac.': 'fecha_nac', 'Nro soc': 'socio'})"
   ]
  },
  {
   "cell_type": "code",
   "execution_count": 12,
   "metadata": {},
   "outputs": [],
   "source": [
    "df_socios = df_soc[['socio', 'Sexo', 'tipo_socio', 'forma_pago', 'fecha_ingreso', \\\n",
    "                   'refunda', 'fecha_nac', 'aspo_dia']]\n",
    "df_socios.columns = [x.lower() for x in df_socios.columns]"
   ]
  },
  {
   "cell_type": "code",
   "execution_count": 13,
   "metadata": {},
   "outputs": [
    {
     "data": {
      "text/html": [
       "<div>\n",
       "<style scoped>\n",
       "    .dataframe tbody tr th:only-of-type {\n",
       "        vertical-align: middle;\n",
       "    }\n",
       "\n",
       "    .dataframe tbody tr th {\n",
       "        vertical-align: top;\n",
       "    }\n",
       "\n",
       "    .dataframe thead th {\n",
       "        text-align: right;\n",
       "    }\n",
       "</style>\n",
       "<table border=\"1\" class=\"dataframe\">\n",
       "  <thead>\n",
       "    <tr style=\"text-align: right;\">\n",
       "      <th></th>\n",
       "      <th>socio</th>\n",
       "      <th>sexo</th>\n",
       "      <th>tipo_socio</th>\n",
       "      <th>forma_pago</th>\n",
       "      <th>fecha_ingreso</th>\n",
       "      <th>refunda</th>\n",
       "      <th>fecha_nac</th>\n",
       "      <th>aspo_dia</th>\n",
       "    </tr>\n",
       "  </thead>\n",
       "  <tbody>\n",
       "    <tr>\n",
       "      <th>0</th>\n",
       "      <td>1</td>\n",
       "      <td>M</td>\n",
       "      <td>VITALICIO</td>\n",
       "      <td>EFECTIVO</td>\n",
       "      <td>27/6/1952</td>\n",
       "      <td>0</td>\n",
       "      <td>1/1/1950</td>\n",
       "      <td>1</td>\n",
       "    </tr>\n",
       "    <tr>\n",
       "      <th>1</th>\n",
       "      <td>10</td>\n",
       "      <td>M</td>\n",
       "      <td>VITALICIO</td>\n",
       "      <td>EFECTIVO</td>\n",
       "      <td>16/7/1954</td>\n",
       "      <td>0</td>\n",
       "      <td>1/1/1900</td>\n",
       "      <td>1</td>\n",
       "    </tr>\n",
       "    <tr>\n",
       "      <th>2</th>\n",
       "      <td>100</td>\n",
       "      <td>M</td>\n",
       "      <td>VITALICIO</td>\n",
       "      <td>EFECTIVO</td>\n",
       "      <td>16/5/1963</td>\n",
       "      <td>0</td>\n",
       "      <td>14/8/1914</td>\n",
       "      <td>1</td>\n",
       "    </tr>\n",
       "    <tr>\n",
       "      <th>3</th>\n",
       "      <td>1000</td>\n",
       "      <td>M</td>\n",
       "      <td>VITALICIO</td>\n",
       "      <td>EFECTIVO</td>\n",
       "      <td>26/6/1975</td>\n",
       "      <td>0</td>\n",
       "      <td>25/6/1925</td>\n",
       "      <td>1</td>\n",
       "    </tr>\n",
       "    <tr>\n",
       "      <th>4</th>\n",
       "      <td>10001</td>\n",
       "      <td>F</td>\n",
       "      <td>PLENO</td>\n",
       "      <td>DEBITO</td>\n",
       "      <td>16/12/2003</td>\n",
       "      <td>0</td>\n",
       "      <td>19/8/1959</td>\n",
       "      <td>1</td>\n",
       "    </tr>\n",
       "  </tbody>\n",
       "</table>\n",
       "</div>"
      ],
      "text/plain": [
       "   socio sexo tipo_socio forma_pago fecha_ingreso  refunda  fecha_nac  \\\n",
       "0      1    M  VITALICIO   EFECTIVO     27/6/1952        0   1/1/1950   \n",
       "1     10    M  VITALICIO   EFECTIVO     16/7/1954        0   1/1/1900   \n",
       "2    100    M  VITALICIO   EFECTIVO     16/5/1963        0  14/8/1914   \n",
       "3   1000    M  VITALICIO   EFECTIVO     26/6/1975        0  25/6/1925   \n",
       "4  10001    F      PLENO     DEBITO    16/12/2003        0  19/8/1959   \n",
       "\n",
       "   aspo_dia  \n",
       "0         1  \n",
       "1         1  \n",
       "2         1  \n",
       "3         1  \n",
       "4         1  "
      ]
     },
     "execution_count": 13,
     "metadata": {},
     "output_type": "execute_result"
    }
   ],
   "source": [
    "df_socios.head()"
   ]
  },
  {
   "cell_type": "code",
   "execution_count": 14,
   "metadata": {},
   "outputs": [
    {
     "data": {
      "text/plain": [
       "socio             int64\n",
       "sexo             object\n",
       "tipo_socio       object\n",
       "forma_pago       object\n",
       "fecha_ingreso    object\n",
       "refunda           int64\n",
       "fecha_nac        object\n",
       "aspo_dia          int64\n",
       "dtype: object"
      ]
     },
     "execution_count": 14,
     "metadata": {},
     "output_type": "execute_result"
    }
   ],
   "source": [
    "df_socios.dtypes"
   ]
  },
  {
   "cell_type": "code",
   "execution_count": 15,
   "metadata": {},
   "outputs": [],
   "source": [
    "# index a string\n",
    "df_socios = df_socios.loc[-df_socios['socio'].isna()]\n",
    "df_socios['socio'] = df_socios['socio'].astype(int).astype(str)\n",
    "df_socios = df_socios.set_index('socio')"
   ]
  },
  {
   "cell_type": "code",
   "execution_count": 16,
   "metadata": {},
   "outputs": [
    {
     "data": {
      "text/html": [
       "<div>\n",
       "<style scoped>\n",
       "    .dataframe tbody tr th:only-of-type {\n",
       "        vertical-align: middle;\n",
       "    }\n",
       "\n",
       "    .dataframe tbody tr th {\n",
       "        vertical-align: top;\n",
       "    }\n",
       "\n",
       "    .dataframe thead th {\n",
       "        text-align: right;\n",
       "    }\n",
       "</style>\n",
       "<table border=\"1\" class=\"dataframe\">\n",
       "  <thead>\n",
       "    <tr style=\"text-align: right;\">\n",
       "      <th></th>\n",
       "      <th>sexo</th>\n",
       "      <th>tipo_socio</th>\n",
       "      <th>forma_pago</th>\n",
       "      <th>fecha_ingreso</th>\n",
       "      <th>refunda</th>\n",
       "      <th>fecha_nac</th>\n",
       "      <th>aspo_dia</th>\n",
       "    </tr>\n",
       "    <tr>\n",
       "      <th>socio</th>\n",
       "      <th></th>\n",
       "      <th></th>\n",
       "      <th></th>\n",
       "      <th></th>\n",
       "      <th></th>\n",
       "      <th></th>\n",
       "      <th></th>\n",
       "    </tr>\n",
       "  </thead>\n",
       "  <tbody>\n",
       "    <tr>\n",
       "      <th>1</th>\n",
       "      <td>M</td>\n",
       "      <td>VITALICIO</td>\n",
       "      <td>EFECTIVO</td>\n",
       "      <td>27/6/1952</td>\n",
       "      <td>0</td>\n",
       "      <td>1/1/1950</td>\n",
       "      <td>1</td>\n",
       "    </tr>\n",
       "    <tr>\n",
       "      <th>10</th>\n",
       "      <td>M</td>\n",
       "      <td>VITALICIO</td>\n",
       "      <td>EFECTIVO</td>\n",
       "      <td>16/7/1954</td>\n",
       "      <td>0</td>\n",
       "      <td>1/1/1900</td>\n",
       "      <td>1</td>\n",
       "    </tr>\n",
       "    <tr>\n",
       "      <th>100</th>\n",
       "      <td>M</td>\n",
       "      <td>VITALICIO</td>\n",
       "      <td>EFECTIVO</td>\n",
       "      <td>16/5/1963</td>\n",
       "      <td>0</td>\n",
       "      <td>14/8/1914</td>\n",
       "      <td>1</td>\n",
       "    </tr>\n",
       "    <tr>\n",
       "      <th>1000</th>\n",
       "      <td>M</td>\n",
       "      <td>VITALICIO</td>\n",
       "      <td>EFECTIVO</td>\n",
       "      <td>26/6/1975</td>\n",
       "      <td>0</td>\n",
       "      <td>25/6/1925</td>\n",
       "      <td>1</td>\n",
       "    </tr>\n",
       "    <tr>\n",
       "      <th>10001</th>\n",
       "      <td>F</td>\n",
       "      <td>PLENO</td>\n",
       "      <td>DEBITO</td>\n",
       "      <td>16/12/2003</td>\n",
       "      <td>0</td>\n",
       "      <td>19/8/1959</td>\n",
       "      <td>1</td>\n",
       "    </tr>\n",
       "  </tbody>\n",
       "</table>\n",
       "</div>"
      ],
      "text/plain": [
       "      sexo tipo_socio forma_pago fecha_ingreso  refunda  fecha_nac  aspo_dia\n",
       "socio                                                                       \n",
       "1        M  VITALICIO   EFECTIVO     27/6/1952        0   1/1/1950         1\n",
       "10       M  VITALICIO   EFECTIVO     16/7/1954        0   1/1/1900         1\n",
       "100      M  VITALICIO   EFECTIVO     16/5/1963        0  14/8/1914         1\n",
       "1000     M  VITALICIO   EFECTIVO     26/6/1975        0  25/6/1925         1\n",
       "10001    F      PLENO     DEBITO    16/12/2003        0  19/8/1959         1"
      ]
     },
     "execution_count": 16,
     "metadata": {},
     "output_type": "execute_result"
    }
   ],
   "source": [
    "df_socios.head()"
   ]
  },
  {
   "cell_type": "markdown",
   "metadata": {},
   "source": [
    "#### Abonados"
   ]
  },
  {
   "cell_type": "code",
   "execution_count": null,
   "metadata": {},
   "outputs": [],
   "source": [
    "# abonos\n",
    "df_abo = pd.read_csv(RAW/'abonos_historico.csv', sep=';', encoding = \"ISO-8859-1\")\n",
    "# df_abo.head()"
   ]
  },
  {
   "cell_type": "code",
   "execution_count": null,
   "metadata": {},
   "outputs": [],
   "source": [
    "# df_abo.shape"
   ]
  },
  {
   "cell_type": "code",
   "execution_count": null,
   "metadata": {},
   "outputs": [],
   "source": [
    "# año del abono\n",
    "df_abo['abo_year'] = df_abo['Vencimiento'].str.slice(start = -4)\n",
    "# df_abo['abo_year'].value_counts()"
   ]
  },
  {
   "cell_type": "code",
   "execution_count": null,
   "metadata": {},
   "outputs": [],
   "source": [
    "# cambio de nombre de vars\n",
    "df_abo = df_abo.rename(columns={'Socio': 'socio', 'Apellido y Nombre': 'nombre'})"
   ]
  },
  {
   "cell_type": "code",
   "execution_count": null,
   "metadata": {},
   "outputs": [],
   "source": [
    "# elimino espacios vacios en ultimo caracter de nombre\n",
    "df_abo['nombre'] = [str_rem_empty(x) for x in list(df_abo['nombre'])]"
   ]
  },
  {
   "cell_type": "code",
   "execution_count": null,
   "metadata": {},
   "outputs": [],
   "source": [
    "# pivoteo socio y nombre\n",
    "socio_nombre = df_abo.loc[-df_abo['socio'].isna(), ['socio', 'nombre']]\n",
    "\n",
    "# elimino la columna socio con NaN\n",
    "df_abo = df_abo.drop(['socio'], axis=1)"
   ]
  },
  {
   "cell_type": "code",
   "execution_count": null,
   "metadata": {},
   "outputs": [],
   "source": [
    "# merge\n",
    "df_abo = pd.merge(df_abo, socio_nombre, how='left', on='nombre')"
   ]
  },
  {
   "cell_type": "code",
   "execution_count": null,
   "metadata": {},
   "outputs": [],
   "source": [
    "# filtro abonos que no importan para el analisis\n",
    "df_abo = df_abo[df_abo['Sector']!='ESTACIONAMIENTO']\n",
    "# df_abo['Sector'].value_counts()"
   ]
  },
  {
   "cell_type": "code",
   "execution_count": null,
   "metadata": {},
   "outputs": [],
   "source": [
    "# chequeo nulls\n",
    "print(sum(df_abo['socio'].isna()))\n",
    "# df_abo.loc[df_abo['socio'].isna(), 'nombre']"
   ]
  },
  {
   "cell_type": "code",
   "execution_count": null,
   "metadata": {},
   "outputs": [],
   "source": [
    "# elimino los nulls que quedaron y casteo a str\n",
    "df_abo = df_abo.loc[-df_abo['socio'].isna()]\n",
    "df_abo['socio'] = df_abo['socio'].astype(int).astype(str)"
   ]
  },
  {
   "cell_type": "code",
   "execution_count": null,
   "metadata": {},
   "outputs": [],
   "source": [
    "# df_abo.shape"
   ]
  },
  {
   "cell_type": "code",
   "execution_count": null,
   "metadata": {},
   "outputs": [],
   "source": [
    "# len(df_abo['socio'].unique())"
   ]
  },
  {
   "cell_type": "code",
   "execution_count": null,
   "metadata": {},
   "outputs": [],
   "source": [
    "# genero dataframe con variables por abono\n",
    "dfs = [\n",
    "    # bideg 2020\n",
    "    pd.DataFrame(\n",
    "        {'socio':df_abo.loc[(df_abo['abo_year'] == '2020') & (df_abo['Sector'].isin(['PLATEA SUR', 'PLATEA NORTE']))\\\n",
    "                              , 'socio'].unique()\n",
    "         ,'abo_bid_2020':1}),\n",
    "    # bideg 2021\n",
    "    pd.DataFrame(\n",
    "        {'socio':df_abo.loc[(df_abo['abo_year'] == '2021') & (df_abo['Sector'].isin(['PLATEA SUR', 'PLATEA NORTE']))\\\n",
    "                              , 'socio'].unique()\n",
    "         ,'abo_bid_2021':1}),\n",
    "    # poli 2020\n",
    "    pd.DataFrame(\n",
    "        {'socio':df_abo.loc[(df_abo['abo_year'] == '2020') & (df_abo['Sector']=='POLIDEPORTIVO'), 'socio'].unique()\n",
    "         ,'abo_pol_2020':1}),\n",
    "    # poli 2021\n",
    "    pd.DataFrame(\n",
    "        {'socio':df_abo.loc[(df_abo['abo_year'] == '2021') & (df_abo['Sector']=='POLIDEPORTIVO'), 'socio'].unique()\n",
    "         ,'abo_pol_2021':1})\n",
    "    ]\n",
    "df_abonos = reduce(lambda left,right: pd.merge(left,right,on=['socio'],\n",
    "                                            how='outer'), dfs)"
   ]
  },
  {
   "cell_type": "code",
   "execution_count": null,
   "metadata": {},
   "outputs": [],
   "source": [
    "# df_abonos.shape\n",
    "# df_abonos.head()"
   ]
  },
  {
   "cell_type": "code",
   "execution_count": null,
   "metadata": {},
   "outputs": [],
   "source": [
    "# df_abonos.sum(axis=1).value_counts()"
   ]
  },
  {
   "cell_type": "code",
   "execution_count": null,
   "metadata": {},
   "outputs": [],
   "source": [
    "df_abonos.columns"
   ]
  },
  {
   "cell_type": "code",
   "execution_count": null,
   "metadata": {},
   "outputs": [],
   "source": [
    "df_abonos = df_abonos.set_index('socio')"
   ]
  },
  {
   "cell_type": "markdown",
   "metadata": {},
   "source": [
    "#### Eventos"
   ]
  },
  {
   "cell_type": "code",
   "execution_count": null,
   "metadata": {},
   "outputs": [],
   "source": [
    "# eventos\n",
    "eve = load_workbook(filename = RAW/'eventos.xlsx')\n",
    "eve_sheets = eve.sheetnames"
   ]
  },
  {
   "cell_type": "code",
   "execution_count": null,
   "metadata": {},
   "outputs": [],
   "source": [
    "print(eve_sheets)\n",
    "eve_sheets.remove('Abonado')\n",
    "eve_sheets.remove('UNOxSOCIO')"
   ]
  },
  {
   "cell_type": "code",
   "execution_count": null,
   "metadata": {},
   "outputs": [],
   "source": [
    "# ejemplo\n",
    "# info_evento(eve_sheets[0])"
   ]
  },
  {
   "cell_type": "code",
   "execution_count": null,
   "metadata": {},
   "outputs": [],
   "source": [
    "# corro la funcion para todas las solapas y almaceno los resultados en un diccionario\n",
    "eventos = {}\n",
    "for eve in range(len(eve_sheets)):\n",
    "    eventos[eve] = info_evento(eve_sheets[eve])"
   ]
  },
  {
   "cell_type": "code",
   "execution_count": null,
   "metadata": {},
   "outputs": [],
   "source": [
    "# print(len(eventos))\n",
    "# print(type(eventos[0]))\n",
    "# print(eventos[0].keys())"
   ]
  },
  {
   "cell_type": "code",
   "execution_count": null,
   "metadata": {},
   "outputs": [],
   "source": [
    "# publico promedio\n",
    "np.mean(np.array([int(eventos[x]['publico']) for x in eventos]))"
   ]
  },
  {
   "cell_type": "code",
   "execution_count": null,
   "metadata": {},
   "outputs": [],
   "source": [
    "# socios totales que asistieron a algun evento\n",
    "socios_eve = []\n",
    "for eve in eventos:\n",
    "    socios_eve.extend(list(eventos[eve]['socios']))\n",
    "# print(len(socios_eve))\n",
    "socios_eve = list(set(socios_eve))\n",
    "# print(len(socios_eve))"
   ]
  },
  {
   "cell_type": "code",
   "execution_count": null,
   "metadata": {},
   "outputs": [],
   "source": [
    "# genero un data frame con la # de eventos por socio por año\n",
    "socios_eventos = pd.DataFrame({'socio': socios_eve\n",
    "                              ,'eve_2018': np.zeros(len(socios_eve))\n",
    "                              ,'eve_2019': np.zeros(len(socios_eve))\n",
    "                              ,'eve_2020': np.zeros(len(socios_eve))})"
   ]
  },
  {
   "cell_type": "code",
   "execution_count": null,
   "metadata": {},
   "outputs": [],
   "source": [
    "# cantidad de partidos asistidos por socio por año\n",
    "for socio in range(len(socios_eventos['socio'])):\n",
    "    for evento in eventos:\n",
    "        if eventos[evento]['fecha'].year == 2018:\n",
    "            socios_eventos['eve_2018'][socio] += (socios_eventos['socio'][socio] in eventos[evento]['socios'])\n",
    "        if eventos[evento]['fecha'].year == 2019:\n",
    "            socios_eventos['eve_2019'][socio] += (socios_eventos['socio'][socio] in eventos[evento]['socios'])  \n",
    "        if eventos[evento]['fecha'].year == 2020:\n",
    "            socios_eventos['eve_2020'][socio] += (socios_eventos['socio'][socio] in eventos[evento]['socios'])"
   ]
  },
  {
   "cell_type": "code",
   "execution_count": null,
   "metadata": {},
   "outputs": [],
   "source": [
    "socios_eventos['socio'] = socios_eventos['socio'].astype(int).astype(str)\n",
    "df_eventos = socios_eventos.set_index('socio')\n",
    "# df_eventos.head()"
   ]
  },
  {
   "cell_type": "markdown",
   "metadata": {},
   "source": [
    "## Salvo las bases"
   ]
  },
  {
   "cell_type": "code",
   "execution_count": 17,
   "metadata": {},
   "outputs": [],
   "source": [
    "# socios\n",
    "pickle.dump( df_socios, open( DATA/\"df_socios.p\", \"wb\" ) )\n",
    "# abonos\n",
    "pickle.dump( df_abonos, open( DATA/\"df_abonos.p\", \"wb\" ) )\n",
    "# eventos\n",
    "pickle.dump( df_eventos, open( DATA/\"df_eventos.p\", \"wb\" ) )"
   ]
  },
  {
   "cell_type": "code",
   "execution_count": null,
   "metadata": {},
   "outputs": [],
   "source": []
  }
 ],
 "metadata": {
  "kernelspec": {
   "display_name": "Python 3",
   "language": "python",
   "name": "python3"
  },
  "language_info": {
   "codemirror_mode": {
    "name": "ipython",
    "version": 3
   },
   "file_extension": ".py",
   "mimetype": "text/x-python",
   "name": "python",
   "nbconvert_exporter": "python",
   "pygments_lexer": "ipython3",
   "version": "3.8.5"
  }
 },
 "nbformat": 4,
 "nbformat_minor": 4
}
