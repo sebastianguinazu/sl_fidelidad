{
 "cells": [
  {
   "cell_type": "markdown",
   "metadata": {},
   "source": [
    "# SL Fidelidad - 02_Join data and EDA"
   ]
  },
  {
   "cell_type": "markdown",
   "metadata": {},
   "source": [
    "En esta notebook se analizan los tres dataframe generados y luego se los use en el df final."
   ]
  },
  {
   "cell_type": "code",
   "execution_count": 47,
   "metadata": {},
   "outputs": [],
   "source": [
    "import pandas as pd\n",
    "import numpy as np\n",
    "from pathlib import Path\n",
    "import pickle"
   ]
  },
  {
   "cell_type": "code",
   "execution_count": 48,
   "metadata": {},
   "outputs": [],
   "source": [
    "# seteo carpetas\n",
    "BASE = Path().absolute().parent\n",
    "RAW = Path(BASE/'raw')\n",
    "DATA = Path(BASE/'data')"
   ]
  },
  {
   "cell_type": "markdown",
   "metadata": {},
   "source": [
    "## Bases"
   ]
  },
  {
   "cell_type": "markdown",
   "metadata": {},
   "source": [
    "- Socios: df_socios\n",
    "- Abonos: df_abonos\n",
    "- Eventos: df_eventos"
   ]
  },
  {
   "cell_type": "code",
   "execution_count": 49,
   "metadata": {},
   "outputs": [],
   "source": [
    "# socios\n",
    "df_socios = pickle.load( open( DATA/\"df_socios.p\", \"rb\" ) )\n",
    "# abonos\n",
    "df_abonos = pickle.load( open( DATA/\"df_abonos.p\", \"rb\" ) )\n",
    "# eventos\n",
    "df_eventos = pickle.load( open( DATA/\"df_eventos.p\", \"rb\" ) )"
   ]
  },
  {
   "cell_type": "markdown",
   "metadata": {},
   "source": [
    "## Exploro bases"
   ]
  },
  {
   "cell_type": "code",
   "execution_count": 50,
   "metadata": {},
   "outputs": [
    {
     "name": "stdout",
     "output_type": "stream",
     "text": [
      "variables de df_socios: \n",
      "sexo                     object\n",
      "tipo_socio               object\n",
      "forma_pago               object\n",
      "fecha_ingreso    datetime64[ns]\n",
      "refunda                   int64\n",
      "fecha_nac        datetime64[ns]\n",
      "dtype: object\n",
      "\n",
      "variables de df_abonos: \n",
      "abo_bid_2020    float64\n",
      "abo_bid_2021    float64\n",
      "abo_pol_2020    float64\n",
      "abo_pol_2021    float64\n",
      "dtype: object\n",
      "\n",
      "variables de df_eventos: \n",
      "eve_2018    float64\n",
      "eve_2019    float64\n",
      "eve_2020    float64\n",
      "dtype: object\n",
      "\n"
     ]
    }
   ],
   "source": [
    "# variables\n",
    "print(f'variables de df_socios: \\n{df_socios.dtypes}\\n')\n",
    "print(f'variables de df_abonos: \\n{df_abonos.dtypes}\\n')\n",
    "print(f'variables de df_eventos: \\n{df_eventos.dtypes}\\n')"
   ]
  },
  {
   "cell_type": "code",
   "execution_count": 43,
   "metadata": {},
   "outputs": [],
   "source": [
    "# observaciones\n",
    "# print(df_socios.shape)\n",
    "# print(df_abonos.shape)\n",
    "# print(df_eventos.shape)"
   ]
  },
  {
   "cell_type": "code",
   "execution_count": 51,
   "metadata": {},
   "outputs": [
    {
     "name": "stdout",
     "output_type": "stream",
     "text": [
      "hay 4 que estan en abonos y no en socios\n",
      "hay 5798 que estan en eventos y no en socios\n"
     ]
    }
   ],
   "source": [
    "# analisis de integridad\n",
    "print(f'hay {df_abonos.shape[0] - sum([(i in df_socios.index) for i in df_abonos.index])} que estan en abonos y no en socios')\n",
    "print(f'hay {df_eventos.shape[0] - sum([(i in df_socios.index) for i in df_eventos.index])} que estan en eventos y no en socios')"
   ]
  },
  {
   "cell_type": "code",
   "execution_count": 52,
   "metadata": {},
   "outputs": [],
   "source": [
    "eventos_socios = [(i, i in df_socios.index) for i in df_eventos.index]\n",
    "eventos_nosoc = []\n",
    "for i in eventos_socios:\n",
    "    if i[1] == False:\n",
    "        eventos_nosoc.append(i[0])"
   ]
  },
  {
   "cell_type": "code",
   "execution_count": 16,
   "metadata": {},
   "outputs": [],
   "source": [
    "# eventos_nosoc"
   ]
  },
  {
   "cell_type": "markdown",
   "metadata": {},
   "source": [
    "## Junto las bases"
   ]
  },
  {
   "cell_type": "code",
   "execution_count": 53,
   "metadata": {},
   "outputs": [
    {
     "data": {
      "text/plain": [
       "Index(['sexo', 'tipo_socio', 'forma_pago', 'fecha_ingreso', 'refunda',\n",
       "       'fecha_nac', 'abo_bid_2020', 'abo_bid_2021', 'abo_pol_2020',\n",
       "       'abo_pol_2021', 'eve_2018', 'eve_2019', 'eve_2020'],\n",
       "      dtype='object')"
      ]
     },
     "execution_count": 53,
     "metadata": {},
     "output_type": "execute_result"
    }
   ],
   "source": [
    "# junto las  tres tablas\n",
    "df_fide = pd.merge( left=pd.merge(df_socios, df_abonos, how='left', left_index=True, right_index=True),\n",
    "                    right=df_eventos, how='left', left_index=True, right_index=True)\n",
    "df_fide.columns"
   ]
  },
  {
   "cell_type": "code",
   "execution_count": 89,
   "metadata": {},
   "outputs": [
    {
     "data": {
      "text/html": [
       "<div>\n",
       "<style scoped>\n",
       "    .dataframe tbody tr th:only-of-type {\n",
       "        vertical-align: middle;\n",
       "    }\n",
       "\n",
       "    .dataframe tbody tr th {\n",
       "        vertical-align: top;\n",
       "    }\n",
       "\n",
       "    .dataframe thead th {\n",
       "        text-align: right;\n",
       "    }\n",
       "</style>\n",
       "<table border=\"1\" class=\"dataframe\">\n",
       "  <thead>\n",
       "    <tr style=\"text-align: right;\">\n",
       "      <th></th>\n",
       "      <th>sexo</th>\n",
       "      <th>tipo_socio</th>\n",
       "      <th>forma_pago</th>\n",
       "      <th>fecha_ingreso</th>\n",
       "      <th>refunda</th>\n",
       "      <th>fecha_nac</th>\n",
       "      <th>abo_bid_2020</th>\n",
       "      <th>abo_bid_2021</th>\n",
       "      <th>abo_pol_2020</th>\n",
       "      <th>abo_pol_2021</th>\n",
       "      <th>eve_2018</th>\n",
       "      <th>eve_2019</th>\n",
       "      <th>eve_2020</th>\n",
       "    </tr>\n",
       "    <tr>\n",
       "      <th>socio</th>\n",
       "      <th></th>\n",
       "      <th></th>\n",
       "      <th></th>\n",
       "      <th></th>\n",
       "      <th></th>\n",
       "      <th></th>\n",
       "      <th></th>\n",
       "      <th></th>\n",
       "      <th></th>\n",
       "      <th></th>\n",
       "      <th></th>\n",
       "      <th></th>\n",
       "      <th></th>\n",
       "    </tr>\n",
       "  </thead>\n",
       "  <tbody>\n",
       "    <tr>\n",
       "      <th>1</th>\n",
       "      <td>M</td>\n",
       "      <td>VITALICIO</td>\n",
       "      <td>EFECTIVO</td>\n",
       "      <td>1952-06-27</td>\n",
       "      <td>0</td>\n",
       "      <td>1950-01-01</td>\n",
       "      <td>NaN</td>\n",
       "      <td>NaN</td>\n",
       "      <td>NaN</td>\n",
       "      <td>NaN</td>\n",
       "      <td>NaN</td>\n",
       "      <td>NaN</td>\n",
       "      <td>NaN</td>\n",
       "    </tr>\n",
       "    <tr>\n",
       "      <th>2</th>\n",
       "      <td>M</td>\n",
       "      <td>VITALICIO</td>\n",
       "      <td>EFECTIVO</td>\n",
       "      <td>1953-03-06</td>\n",
       "      <td>0</td>\n",
       "      <td>1953-01-01</td>\n",
       "      <td>NaN</td>\n",
       "      <td>NaN</td>\n",
       "      <td>NaN</td>\n",
       "      <td>NaN</td>\n",
       "      <td>NaN</td>\n",
       "      <td>NaN</td>\n",
       "      <td>NaN</td>\n",
       "    </tr>\n",
       "    <tr>\n",
       "      <th>3</th>\n",
       "      <td>M</td>\n",
       "      <td>VITALICIO</td>\n",
       "      <td>EFECTIVO</td>\n",
       "      <td>1953-03-06</td>\n",
       "      <td>0</td>\n",
       "      <td>1904-11-24</td>\n",
       "      <td>NaN</td>\n",
       "      <td>NaN</td>\n",
       "      <td>NaN</td>\n",
       "      <td>NaN</td>\n",
       "      <td>NaN</td>\n",
       "      <td>NaN</td>\n",
       "      <td>NaN</td>\n",
       "    </tr>\n",
       "    <tr>\n",
       "      <th>4</th>\n",
       "      <td>M</td>\n",
       "      <td>VITALICIO</td>\n",
       "      <td>EFECTIVO</td>\n",
       "      <td>1954-04-02</td>\n",
       "      <td>0</td>\n",
       "      <td>1913-12-07</td>\n",
       "      <td>NaN</td>\n",
       "      <td>NaN</td>\n",
       "      <td>NaN</td>\n",
       "      <td>NaN</td>\n",
       "      <td>NaN</td>\n",
       "      <td>NaN</td>\n",
       "      <td>NaN</td>\n",
       "    </tr>\n",
       "    <tr>\n",
       "      <th>5</th>\n",
       "      <td>M</td>\n",
       "      <td>VITALICIO</td>\n",
       "      <td>EFECTIVO</td>\n",
       "      <td>1954-04-02</td>\n",
       "      <td>0</td>\n",
       "      <td>1913-03-13</td>\n",
       "      <td>NaN</td>\n",
       "      <td>NaN</td>\n",
       "      <td>NaN</td>\n",
       "      <td>NaN</td>\n",
       "      <td>NaN</td>\n",
       "      <td>NaN</td>\n",
       "      <td>NaN</td>\n",
       "    </tr>\n",
       "  </tbody>\n",
       "</table>\n",
       "</div>"
      ],
      "text/plain": [
       "      sexo tipo_socio forma_pago fecha_ingreso  refunda  fecha_nac  \\\n",
       "socio                                                                \n",
       "1        M  VITALICIO   EFECTIVO    1952-06-27        0 1950-01-01   \n",
       "2        M  VITALICIO   EFECTIVO    1953-03-06        0 1953-01-01   \n",
       "3        M  VITALICIO   EFECTIVO    1953-03-06        0 1904-11-24   \n",
       "4        M  VITALICIO   EFECTIVO    1954-04-02        0 1913-12-07   \n",
       "5        M  VITALICIO   EFECTIVO    1954-04-02        0 1913-03-13   \n",
       "\n",
       "       abo_bid_2020  abo_bid_2021  abo_pol_2020  abo_pol_2021  eve_2018  \\\n",
       "socio                                                                     \n",
       "1               NaN           NaN           NaN           NaN       NaN   \n",
       "2               NaN           NaN           NaN           NaN       NaN   \n",
       "3               NaN           NaN           NaN           NaN       NaN   \n",
       "4               NaN           NaN           NaN           NaN       NaN   \n",
       "5               NaN           NaN           NaN           NaN       NaN   \n",
       "\n",
       "       eve_2019  eve_2020  \n",
       "socio                      \n",
       "1           NaN       NaN  \n",
       "2           NaN       NaN  \n",
       "3           NaN       NaN  \n",
       "4           NaN       NaN  \n",
       "5           NaN       NaN  "
      ]
     },
     "execution_count": 89,
     "metadata": {},
     "output_type": "execute_result"
    }
   ],
   "source": [
    "df_fide.head()"
   ]
  },
  {
   "cell_type": "markdown",
   "metadata": {},
   "source": [
    "## Guardo base final"
   ]
  },
  {
   "cell_type": "code",
   "execution_count": 54,
   "metadata": {},
   "outputs": [],
   "source": [
    "pickle.dump( df_fide, open( DATA/\"df_fide.p\", \"wb\" ) )"
   ]
  },
  {
   "cell_type": "code",
   "execution_count": null,
   "metadata": {},
   "outputs": [],
   "source": []
  }
 ],
 "metadata": {
  "kernelspec": {
   "display_name": "Python 3",
   "language": "python",
   "name": "python3"
  },
  "language_info": {
   "codemirror_mode": {
    "name": "ipython",
    "version": 3
   },
   "file_extension": ".py",
   "mimetype": "text/x-python",
   "name": "python",
   "nbconvert_exporter": "python",
   "pygments_lexer": "ipython3",
   "version": "3.8.5"
  }
 },
 "nbformat": 4,
 "nbformat_minor": 4
}
