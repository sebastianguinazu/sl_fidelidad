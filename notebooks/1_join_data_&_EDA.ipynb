{
 "cells": [
  {
   "cell_type": "markdown",
   "metadata": {},
   "source": [
    "# SL Fidelidad - 02_Join data and EDA"
   ]
  },
  {
   "cell_type": "markdown",
   "metadata": {},
   "source": [
    "En esta notebook se analizan los tres dataframe generados y luego se los use en el df final."
   ]
  },
  {
   "cell_type": "code",
   "execution_count": 4,
   "metadata": {},
   "outputs": [],
   "source": [
    "import pandas as pd\n",
    "import numpy as np\n",
    "from pathlib import Path\n",
    "import pickle"
   ]
  },
  {
   "cell_type": "code",
   "execution_count": 5,
   "metadata": {},
   "outputs": [],
   "source": [
    "# seteo carpetas\n",
    "BASE = Path().absolute().parent\n",
    "RAW = Path(BASE/'raw')\n",
    "DATA = Path(BASE/'data')"
   ]
  },
  {
   "cell_type": "markdown",
   "metadata": {},
   "source": [
    "## Bases"
   ]
  },
  {
   "cell_type": "markdown",
   "metadata": {},
   "source": [
    "- Socios: df_socios\n",
    "- Abonos: df_abonos\n",
    "- Eventos: df_eventos"
   ]
  },
  {
   "cell_type": "code",
   "execution_count": 6,
   "metadata": {},
   "outputs": [],
   "source": [
    "# socios\n",
    "df_socios = pickle.load( open( DATA/\"df_socios.p\", \"rb\" ) )\n",
    "# abonos\n",
    "df_abonos = pickle.load( open( DATA/\"df_abonos.p\", \"rb\" ) )\n",
    "# eventos\n",
    "df_eventos = pickle.load( open( DATA/\"df_eventos.p\", \"rb\" ) )"
   ]
  },
  {
   "cell_type": "markdown",
   "metadata": {},
   "source": [
    "## Exploro bases"
   ]
  },
  {
   "cell_type": "code",
   "execution_count": 7,
   "metadata": {},
   "outputs": [
    {
     "name": "stdout",
     "output_type": "stream",
     "text": [
      "variables de df_socios: \n",
      "sexo                     object\n",
      "tipo_socio               object\n",
      "forma_pago               object\n",
      "fecha_ingreso    datetime64[ns]\n",
      "refunda                   int64\n",
      "fecha_nac        datetime64[ns]\n",
      "dtype: object\n",
      "\n",
      "variables de df_abonos: \n",
      "abo_bid_2020    float64\n",
      "abo_bid_2021    float64\n",
      "abo_pol_2020    float64\n",
      "abo_pol_2021    float64\n",
      "dtype: object\n",
      "\n",
      "variables de df_eventos: \n",
      "eve_2018    float64\n",
      "eve_2019    float64\n",
      "eve_2020    float64\n",
      "dtype: object\n",
      "\n"
     ]
    }
   ],
   "source": [
    "# variables\n",
    "print(f'variables de df_socios: \\n{df_socios.dtypes}\\n')\n",
    "print(f'variables de df_abonos: \\n{df_abonos.dtypes}\\n')\n",
    "print(f'variables de df_eventos: \\n{df_eventos.dtypes}\\n')"
   ]
  },
  {
   "cell_type": "code",
   "execution_count": 43,
   "metadata": {},
   "outputs": [],
   "source": [
    "# observaciones\n",
    "# print(df_socios.shape)\n",
    "# print(df_abonos.shape)\n",
    "# print(df_eventos.shape)"
   ]
  },
  {
   "cell_type": "code",
   "execution_count": 9,
   "metadata": {},
   "outputs": [
    {
     "name": "stdout",
     "output_type": "stream",
     "text": [
      "hay 4 que estan en abonos y no en socios\n",
      "hay 5798 que estan en eventos y no en socios\n"
     ]
    }
   ],
   "source": [
    "# analisis de integridad\n",
    "print(f'hay {df_abonos.shape[0] - sum([(i in df_socios.index) for i in df_abonos.index])} que estan en abonos y no en socios')\n",
    "print(f'hay {df_eventos.shape[0] - sum([(i in df_socios.index) for i in df_eventos.index])} que estan en eventos y no en socios')"
   ]
  },
  {
   "cell_type": "code",
   "execution_count": 10,
   "metadata": {},
   "outputs": [],
   "source": [
    "eventos_socios = [(i, i in df_socios.index) for i in df_eventos.index]\n",
    "eventos_nosoc = []\n",
    "for i in eventos_socios:\n",
    "    if i[1] == False:\n",
    "        eventos_nosoc.append(i[0])"
   ]
  },
  {
   "cell_type": "code",
   "execution_count": 16,
   "metadata": {},
   "outputs": [],
   "source": [
    "# eventos_nosoc"
   ]
  },
  {
   "cell_type": "markdown",
   "metadata": {},
   "source": [
    "## Junto las bases"
   ]
  },
  {
   "cell_type": "code",
   "execution_count": 11,
   "metadata": {},
   "outputs": [
    {
     "data": {
      "text/plain": [
       "Index(['sexo', 'tipo_socio', 'forma_pago', 'fecha_ingreso', 'refunda',\n",
       "       'fecha_nac', 'abo_bid_2020', 'abo_bid_2021', 'abo_pol_2020',\n",
       "       'abo_pol_2021', 'eve_2018', 'eve_2019', 'eve_2020'],\n",
       "      dtype='object')"
      ]
     },
     "execution_count": 11,
     "metadata": {},
     "output_type": "execute_result"
    }
   ],
   "source": [
    "# junto las  tres tablas\n",
    "df_fide = pd.merge( left=pd.merge(df_socios, df_abonos, how='left', left_index=True, right_index=True),\n",
    "                    right=df_eventos, how='left', left_index=True, right_index=True)\n",
    "df_fide.columns"
   ]
  },
  {
   "cell_type": "code",
   "execution_count": 13,
   "metadata": {},
   "outputs": [],
   "source": [
    "# df_fide.head()"
   ]
  },
  {
   "cell_type": "code",
   "execution_count": 14,
   "metadata": {},
   "outputs": [],
   "source": [
    "# reemplazo los NaN por missing cuando corresponde\n",
    "varstofill = ['abo_bid_2020', 'abo_bid_2021', 'abo_pol_2020', 'abo_pol_2021', 'eve_2018', 'eve_2019', 'eve_2020']\n",
    "\n",
    "for var in varstofill:\n",
    "    df_fide[var] = df_fide[var].fillna(0)"
   ]
  },
  {
   "cell_type": "markdown",
   "metadata": {},
   "source": [
    "## Guardo base final"
   ]
  },
  {
   "cell_type": "code",
   "execution_count": 16,
   "metadata": {},
   "outputs": [],
   "source": [
    "pickle.dump( df_fide, open( DATA/\"df_fide.p\", \"wb\" ) )"
   ]
  },
  {
   "cell_type": "code",
   "execution_count": null,
   "metadata": {},
   "outputs": [],
   "source": []
  }
 ],
 "metadata": {
  "kernelspec": {
   "display_name": "Python 3",
   "language": "python",
   "name": "python3"
  },
  "language_info": {
   "codemirror_mode": {
    "name": "ipython",
    "version": 3
   },
   "file_extension": ".py",
   "mimetype": "text/x-python",
   "name": "python",
   "nbconvert_exporter": "python",
   "pygments_lexer": "ipython3",
   "version": "3.8.5"
  }
 },
 "nbformat": 4,
 "nbformat_minor": 4
}
